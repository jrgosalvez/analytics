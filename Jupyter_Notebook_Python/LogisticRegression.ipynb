{
 "cells": [
  {
   "cell_type": "markdown",
   "metadata": {},
   "source": [
    "# Logistic Regression \n",
    "#### Rick Gosalvez, 2021 Data Mining"
   ]
  },
  {
   "cell_type": "markdown",
   "metadata": {},
   "source": [
    "# Theory"
   ]
  },
  {
   "cell_type": "markdown",
   "metadata": {},
   "source": [
    "## 1.Logistic Regression Result Analysis"
   ]
  },
  {
   "cell_type": "markdown",
   "metadata": {},
   "source": [
    "### 1a. Statistically significant features @ 90% confidence level"
   ]
  },
  {
   "cell_type": "markdown",
   "metadata": {},
   "source": [
    "If P value < 0.10 then cannot accept Ho, therefore it is important!\n",
    "(Said differently, if large > eliminate)\n",
    "* Ho: ai  = 0 (no impact to outcome class)\n",
    "* H1: ai != 0 (important)"
   ]
  },
  {
   "cell_type": "code",
   "execution_count": 1,
   "metadata": {},
   "outputs": [
    {
     "data": {
      "text/html": [
       "<div>\n",
       "<style scoped>\n",
       "    .dataframe tbody tr th:only-of-type {\n",
       "        vertical-align: middle;\n",
       "    }\n",
       "\n",
       "    .dataframe tbody tr th {\n",
       "        vertical-align: top;\n",
       "    }\n",
       "\n",
       "    .dataframe thead th {\n",
       "        text-align: right;\n",
       "    }\n",
       "</style>\n",
       "<table border=\"1\" class=\"dataframe\">\n",
       "  <thead>\n",
       "    <tr style=\"text-align: right;\">\n",
       "      <th></th>\n",
       "      <th>index</th>\n",
       "      <th>Coef</th>\n",
       "      <th>St. Err</th>\n",
       "      <th>z</th>\n",
       "      <th>Pz</th>\n",
       "      <th>Test</th>\n",
       "    </tr>\n",
       "  </thead>\n",
       "  <tbody>\n",
       "    <tr>\n",
       "      <th>0</th>\n",
       "      <td>x1</td>\n",
       "      <td>0.269762</td>\n",
       "      <td>0.175968</td>\n",
       "      <td>1.53</td>\n",
       "      <td>0.125</td>\n",
       "      <td>-</td>\n",
       "    </tr>\n",
       "    <tr>\n",
       "      <th>1</th>\n",
       "      <td>x2</td>\n",
       "      <td>-0.250059</td>\n",
       "      <td>0.145985</td>\n",
       "      <td>1.71</td>\n",
       "      <td>0.087</td>\n",
       "      <td>&lt;&lt; cannot accept Ho</td>\n",
       "    </tr>\n",
       "    <tr>\n",
       "      <th>2</th>\n",
       "      <td>x3</td>\n",
       "      <td>0.115044</td>\n",
       "      <td>0.148618</td>\n",
       "      <td>0.77</td>\n",
       "      <td>0.439</td>\n",
       "      <td>-</td>\n",
       "    </tr>\n",
       "    <tr>\n",
       "      <th>3</th>\n",
       "      <td>x4</td>\n",
       "      <td>0.364972</td>\n",
       "      <td>0.153434</td>\n",
       "      <td>2.38</td>\n",
       "      <td>0.017</td>\n",
       "      <td>&lt;&lt; cannot accept Ho</td>\n",
       "    </tr>\n",
       "    <tr>\n",
       "      <th>4</th>\n",
       "      <td>x5</td>\n",
       "      <td>-0.313121</td>\n",
       "      <td>0.146780</td>\n",
       "      <td>-2.13</td>\n",
       "      <td>0.033</td>\n",
       "      <td>&lt;&lt; cannot accept Ho</td>\n",
       "    </tr>\n",
       "    <tr>\n",
       "      <th>5</th>\n",
       "      <td>x6</td>\n",
       "      <td>-0.136150</td>\n",
       "      <td>0.156699</td>\n",
       "      <td>-0.87</td>\n",
       "      <td>0.385</td>\n",
       "      <td>-</td>\n",
       "    </tr>\n",
       "    <tr>\n",
       "      <th>6</th>\n",
       "      <td>x7</td>\n",
       "      <td>3.206987</td>\n",
       "      <td>0.363148</td>\n",
       "      <td>8.83</td>\n",
       "      <td>0.000</td>\n",
       "      <td>&lt;&lt; cannot accept Ho</td>\n",
       "    </tr>\n",
       "  </tbody>\n",
       "</table>\n",
       "</div>"
      ],
      "text/plain": [
       "  index      Coef   St. Err     z     Pz                 Test\n",
       "0    x1  0.269762  0.175968  1.53  0.125                    -\n",
       "1    x2 -0.250059  0.145985  1.71  0.087  << cannot accept Ho\n",
       "2    x3  0.115044  0.148618  0.77  0.439                    -\n",
       "3    x4  0.364972  0.153434  2.38  0.017  << cannot accept Ho\n",
       "4    x5 -0.313121  0.146780 -2.13  0.033  << cannot accept Ho\n",
       "5    x6 -0.136150  0.156699 -0.87  0.385                    -\n",
       "6    x7  3.206987  0.363148  8.83  0.000  << cannot accept Ho"
      ]
     },
     "execution_count": 1,
     "metadata": {},
     "output_type": "execute_result"
    }
   ],
   "source": [
    "import pandas as pd\n",
    "import numpy as np\n",
    "\n",
    "df = {'index':  ['x1','x2','x3','x4','x5','x6','x7'],\n",
    "      'Coef':   [0.2697623,-0.2500592,0.1150445,0.3649722,-0.3131214,-0.1361499,3.206987],\n",
    "      'St. Err':[0.1759677,0.1459846,0.1486181,0.153434,0.1467796,0.1566993,0.3631481],\n",
    "      'z':      [1.53,01.71,0.77,2.38,-2.13,-0.87,8.83],\n",
    "      'Pz':     [0.125,0.087,0.439,0.017,0.033,0.385,0]\n",
    "     }\n",
    "\n",
    "df = pd.DataFrame(df)\n",
    "\n",
    "df.loc[df['Pz'] <= 0.10, 'Test'] = '<< cannot accept Ho'\n",
    "df.loc[df['Pz'] > 0.10, 'Test']  = '-'\n",
    "df"
   ]
  },
  {
   "cell_type": "code",
   "execution_count": 2,
   "metadata": {},
   "outputs": [
    {
     "data": {
      "text/plain": [
       "3.2574354999999997"
      ]
     },
     "execution_count": 2,
     "metadata": {},
     "output_type": "execute_result"
    }
   ],
   "source": [
    "sum = df['Coef'].sum()\n",
    "sum"
   ]
  },
  {
   "cell_type": "markdown",
   "metadata": {},
   "source": [
    "### 1b. Meaning of negative coefficients"
   ]
  },
  {
   "cell_type": "markdown",
   "metadata": {},
   "source": [
    "Negative coefficients (x2, x5, x6) have a negative (inverse) relationship with probability per unit increase.\n",
    "* x2 per unit increase, log(odds) decreases by -0.250059, which also decreases the probability (see below)\n",
    "* x3 per unit increase, log(odds) decreases by -0.313121, which also decreases the probability (see below)\n",
    "* x4 per unit increase, log(odds) decreases by -0.136150, which also decreases the probability (see below)"
   ]
  },
  {
   "cell_type": "markdown",
   "metadata": {},
   "source": [
    "$$Probability:\\ = \\frac{odds}{1\\:+\\:odds}\\:=\\:\\frac{e^{(a_0+a_1x_1...)}}{{1\\:+\\:e^{(a_0+a_1x_1...)}}}$$"
   ]
  },
  {
   "cell_type": "code",
   "execution_count": 3,
   "metadata": {},
   "outputs": [
    {
     "name": "stdout",
     "output_type": "stream",
     "text": [
      "Probability for x2 with 1 unit increase: P@1 = 0.4378 vs. P@2 =  0.3775\n",
      "Probability for x3 with 1 unit increase: P@1 = 0.4224 vs. P@2 =  0.3484\n",
      "Probability for x4 with 1 unit increase: P@1 = 0.4660 vs. P@2 =  0.4323\n"
     ]
    }
   ],
   "source": [
    "import math\n",
    "\n",
    "x2 = -0.250059\n",
    "x5 = -0.313121\n",
    "x6 = -0.136150\n",
    "\n",
    "P2_1 = math.e**(x2*1) / (1 + math.e**(x2*1))\n",
    "P2_2 = math.e**(x2*2) / (1 + math.e**(x2*2))\n",
    "P5_1 = math.e**(x5*1) / (1 + math.e**(x5*1))\n",
    "P5_2 = math.e**(x5*2) / (1 + math.e**(x5*2))\n",
    "P6_1 = math.e**(x6*1) / (1 + math.e**(x6*1))\n",
    "P6_2 = math.e**(x6*2) / (1 + math.e**(x6*2))\n",
    "\n",
    "print(f'Probability for x2 with 1 unit increase: P@1 = {P2_1:.4f} vs. P@2 =  {P2_2:.4f}')\n",
    "print(f'Probability for x3 with 1 unit increase: P@1 = {P5_1:.4f} vs. P@2 =  {P5_2:.4f}')\n",
    "print(f'Probability for x4 with 1 unit increase: P@1 = {P6_1:.4f} vs. P@2 =  {P6_2:.4f}')"
   ]
  },
  {
   "cell_type": "markdown",
   "metadata": {},
   "source": [
    "### 1c. Calc Odds Ratio (OR) for unit = 1"
   ]
  },
  {
   "cell_type": "markdown",
   "metadata": {},
   "source": [
    "$$Odds\\:Ratio\\:(OR)\\ = \\frac{e^{a_0+a_1(x_1+1)}}{e^{a_0+a_1x_1}} \\:=\\:{e^{a_1}}$$"
   ]
  },
  {
   "cell_type": "markdown",
   "metadata": {},
   "source": [
    "a0 = intercept; assume intercept @ origin (e.g. no ao intercept in table)"
   ]
  },
  {
   "cell_type": "code",
   "execution_count": 4,
   "metadata": {},
   "outputs": [
    {
     "name": "stdout",
     "output_type": "stream",
     "text": [
      "Odds Ratio (OR)\n",
      " x1 = e^0.2698 = 1.3097\n",
      " x2 = e^-0.2501 = 0.7788\n",
      " x3 = e^0.1150 = 1.1219\n",
      " x4 = e^0.3650 = 1.4405\n",
      " x5 = e^-0.3131 = 0.7312\n",
      " x6 = e^-0.1361 = 0.8727\n",
      " x7 = e^3.2070 = 24.7045\n"
     ]
    }
   ],
   "source": [
    "print('Odds Ratio (OR)')\n",
    "l = 1\n",
    "\n",
    "for i in range(len(df)):\n",
    "    x = df.Coef[i]\n",
    "    print(f' x{l} = e^{x:.4f} = {math.e**x:.4f}')\n",
    "    l +=1"
   ]
  },
  {
   "cell_type": "markdown",
   "metadata": {},
   "source": [
    "### 1d. Increase x1 +5 units; calc odds for class = 1"
   ]
  },
  {
   "cell_type": "markdown",
   "metadata": {},
   "source": [
    "new odds (per unit increase) = e^(ai*x) * baseline"
   ]
  },
  {
   "cell_type": "code",
   "execution_count": 5,
   "metadata": {},
   "outputs": [
    {
     "name": "stdout",
     "output_type": "stream",
     "text": [
      "x1 baseline odds       = 1.3097 is a positive relationship\n",
      "x1 +5 units odds ratio = 3.8528\n"
     ]
    }
   ],
   "source": [
    "x1 = math.e**0.2697623      # baseline, or odds of unit=1 score for class=1\n",
    "xn = x1**5                  # adding +5 unit score e^(ai^x) * baseline\n",
    "\n",
    "print(f'x1 baseline odds       = {x1:.4f} is a positive relationship')\n",
    "print(f'x1 +5 units odds ratio = {xn:.4f}')"
   ]
  },
  {
   "cell_type": "raw",
   "metadata": {},
   "source": [
    "OR_t = math.e**(0.2697623*5)\n",
    "print(OR_t)       # only accounting for interval increase\n",
    "print(OR_t*x1)    # multiplying by baseline gives 5, not 3.8528"
   ]
  },
  {
   "cell_type": "markdown",
   "metadata": {},
   "source": [
    "### 1e. For x4(unit=1), when x4=1, odds are 0.25; calculate the probablity of class=1. "
   ]
  },
  {
   "cell_type": "markdown",
   "metadata": {},
   "source": [
    "$$P\\ = \\frac{odds}{1+odds}$$"
   ]
  },
  {
   "cell_type": "code",
   "execution_count": 6,
   "metadata": {},
   "outputs": [
    {
     "name": "stdout",
     "output_type": "stream",
     "text": [
      "Probability (class=1) = 0.2\n"
     ]
    }
   ],
   "source": [
    "# x4 coef. has a positive relationship, probability should increase with unit increase\n",
    "baseline_odds        = 0.25          \n",
    "baseline_probability = baseline_odds / (1 + baseline_odds)\n",
    "print(f'Probability (class=1) = {baseline_probability}')"
   ]
  },
  {
   "cell_type": "markdown",
   "metadata": {},
   "source": [
    "### Calculate the probability of class=1 if x4=5 (an increase of 4 units)."
   ]
  },
  {
   "cell_type": "code",
   "execution_count": 7,
   "metadata": {},
   "outputs": [],
   "source": [
    "# set index for field look-up\n",
    "df.set_index('index', inplace = True) "
   ]
  },
  {
   "cell_type": "code",
   "execution_count": 8,
   "metadata": {},
   "outputs": [
    {
     "data": {
      "text/plain": [
       "1.0763701830668024"
      ]
     },
     "execution_count": 8,
     "metadata": {},
     "output_type": "execute_result"
    }
   ],
   "source": [
    "new_odds = (math.e**((df.loc['x4']['Coef'])*4))*baseline_odds\n",
    "new_odds"
   ]
  },
  {
   "cell_type": "code",
   "execution_count": 9,
   "metadata": {},
   "outputs": [
    {
     "name": "stdout",
     "output_type": "stream",
     "text": [
      "Probability (class=1) = 0.5184 if increased by 4 units b/c of positive relationship (OR >1)\n"
     ]
    }
   ],
   "source": [
    "Pnewt = new_odds / (1 + new_odds)\n",
    "print(f'Probability (class=1) = {Pnewt:.4f} if increased by 4 units b/c of positive relationship (OR >1)')"
   ]
  },
  {
   "cell_type": "markdown",
   "metadata": {},
   "source": [
    "# Practice"
   ]
  },
  {
   "cell_type": "code",
   "execution_count": 10,
   "metadata": {},
   "outputs": [],
   "source": [
    "import numpy as np\n",
    "import pandas as pd\n",
    "import pandas.testing as tm\n",
    "import matplotlib.pyplot as plt\n",
    "import scikitplot as skplt\n",
    "import warnings\n",
    "warnings.filterwarnings(\"ignore\")\n",
    "\n",
    "from sklearn.preprocessing import StandardScaler       # Standardization of data\n",
    "from sklearn.preprocessing import LabelEncoder         # Label > Number for analysis\n",
    "\n",
    "from sklearn.metrics import plot_confusion_matrix      # pretty plot confusion matrix\n",
    "from sklearn.model_selection import train_test_split   # Training/Test split\n",
    "\n",
    "from sklearn.linear_model import LogisticRegression    # Logistic regression\n",
    "import statsmodels.api as sm                           # Step model\n",
    "\n",
    "from sklearn.metrics import confusion_matrix, classification_report \n",
    "from sklearn.metrics import accuracy_score, precision_score, recall_score, f1_score, make_scorer\n",
    "from sklearn.metrics import roc_curve "
   ]
  },
  {
   "cell_type": "markdown",
   "metadata": {},
   "source": [
    "#### 1. Load and check data"
   ]
  },
  {
   "cell_type": "code",
   "execution_count": 11,
   "metadata": {},
   "outputs": [
    {
     "data": {
      "text/html": [
       "<div>\n",
       "<style scoped>\n",
       "    .dataframe tbody tr th:only-of-type {\n",
       "        vertical-align: middle;\n",
       "    }\n",
       "\n",
       "    .dataframe tbody tr th {\n",
       "        vertical-align: top;\n",
       "    }\n",
       "\n",
       "    .dataframe thead th {\n",
       "        text-align: right;\n",
       "    }\n",
       "</style>\n",
       "<table border=\"1\" class=\"dataframe\">\n",
       "  <thead>\n",
       "    <tr style=\"text-align: right;\">\n",
       "      <th></th>\n",
       "      <th>ID</th>\n",
       "      <th>Age</th>\n",
       "      <th>Experience</th>\n",
       "      <th>Income</th>\n",
       "      <th>ZIPCode</th>\n",
       "      <th>Family</th>\n",
       "      <th>CCAvg</th>\n",
       "      <th>Education</th>\n",
       "      <th>Mortgage</th>\n",
       "      <th>PersonalLoan</th>\n",
       "      <th>SecuritiesAccount</th>\n",
       "      <th>CDAccount</th>\n",
       "      <th>Online</th>\n",
       "      <th>CreditCard</th>\n",
       "    </tr>\n",
       "  </thead>\n",
       "  <tbody>\n",
       "    <tr>\n",
       "      <th>0</th>\n",
       "      <td>1</td>\n",
       "      <td>25</td>\n",
       "      <td>1</td>\n",
       "      <td>49</td>\n",
       "      <td>91107</td>\n",
       "      <td>4</td>\n",
       "      <td>1.6</td>\n",
       "      <td>1</td>\n",
       "      <td>0</td>\n",
       "      <td>0</td>\n",
       "      <td>1</td>\n",
       "      <td>0</td>\n",
       "      <td>0</td>\n",
       "      <td>0</td>\n",
       "    </tr>\n",
       "    <tr>\n",
       "      <th>1</th>\n",
       "      <td>2</td>\n",
       "      <td>45</td>\n",
       "      <td>19</td>\n",
       "      <td>34</td>\n",
       "      <td>90089</td>\n",
       "      <td>3</td>\n",
       "      <td>1.5</td>\n",
       "      <td>1</td>\n",
       "      <td>0</td>\n",
       "      <td>0</td>\n",
       "      <td>1</td>\n",
       "      <td>0</td>\n",
       "      <td>0</td>\n",
       "      <td>0</td>\n",
       "    </tr>\n",
       "    <tr>\n",
       "      <th>2</th>\n",
       "      <td>3</td>\n",
       "      <td>39</td>\n",
       "      <td>15</td>\n",
       "      <td>11</td>\n",
       "      <td>94720</td>\n",
       "      <td>1</td>\n",
       "      <td>1.0</td>\n",
       "      <td>1</td>\n",
       "      <td>0</td>\n",
       "      <td>0</td>\n",
       "      <td>0</td>\n",
       "      <td>0</td>\n",
       "      <td>0</td>\n",
       "      <td>0</td>\n",
       "    </tr>\n",
       "    <tr>\n",
       "      <th>3</th>\n",
       "      <td>4</td>\n",
       "      <td>35</td>\n",
       "      <td>9</td>\n",
       "      <td>100</td>\n",
       "      <td>94112</td>\n",
       "      <td>1</td>\n",
       "      <td>2.7</td>\n",
       "      <td>2</td>\n",
       "      <td>0</td>\n",
       "      <td>0</td>\n",
       "      <td>0</td>\n",
       "      <td>0</td>\n",
       "      <td>0</td>\n",
       "      <td>0</td>\n",
       "    </tr>\n",
       "    <tr>\n",
       "      <th>4</th>\n",
       "      <td>5</td>\n",
       "      <td>35</td>\n",
       "      <td>8</td>\n",
       "      <td>45</td>\n",
       "      <td>91330</td>\n",
       "      <td>4</td>\n",
       "      <td>1.0</td>\n",
       "      <td>2</td>\n",
       "      <td>0</td>\n",
       "      <td>0</td>\n",
       "      <td>0</td>\n",
       "      <td>0</td>\n",
       "      <td>0</td>\n",
       "      <td>1</td>\n",
       "    </tr>\n",
       "  </tbody>\n",
       "</table>\n",
       "</div>"
      ],
      "text/plain": [
       "   ID  Age  Experience  Income  ZIPCode  Family  CCAvg  Education  Mortgage  \\\n",
       "0   1   25           1      49    91107       4    1.6          1         0   \n",
       "1   2   45          19      34    90089       3    1.5          1         0   \n",
       "2   3   39          15      11    94720       1    1.0          1         0   \n",
       "3   4   35           9     100    94112       1    2.7          2         0   \n",
       "4   5   35           8      45    91330       4    1.0          2         0   \n",
       "\n",
       "   PersonalLoan  SecuritiesAccount  CDAccount  Online  CreditCard  \n",
       "0             0                  1          0       0           0  \n",
       "1             0                  1          0       0           0  \n",
       "2             0                  0          0       0           0  \n",
       "3             0                  0          0       0           0  \n",
       "4             0                  0          0       0           1  "
      ]
     },
     "execution_count": 11,
     "metadata": {},
     "output_type": "execute_result"
    }
   ],
   "source": [
    "# create variable to load dataset into Panda framework and print table to python\n",
    "df  = pd.read_csv(\"UniversalBank.csv\")\n",
    "df.head()"
   ]
  },
  {
   "cell_type": "markdown",
   "metadata": {},
   "source": [
    "#### 2. Split data into 'input' and 'output'"
   ]
  },
  {
   "cell_type": "code",
   "execution_count": 12,
   "metadata": {},
   "outputs": [
    {
     "data": {
      "text/html": [
       "<div>\n",
       "<style scoped>\n",
       "    .dataframe tbody tr th:only-of-type {\n",
       "        vertical-align: middle;\n",
       "    }\n",
       "\n",
       "    .dataframe tbody tr th {\n",
       "        vertical-align: top;\n",
       "    }\n",
       "\n",
       "    .dataframe thead th {\n",
       "        text-align: right;\n",
       "    }\n",
       "</style>\n",
       "<table border=\"1\" class=\"dataframe\">\n",
       "  <thead>\n",
       "    <tr style=\"text-align: right;\">\n",
       "      <th></th>\n",
       "      <th>Age</th>\n",
       "      <th>Experience</th>\n",
       "      <th>Income</th>\n",
       "      <th>Family</th>\n",
       "      <th>CCAvg</th>\n",
       "      <th>Education</th>\n",
       "      <th>Mortgage</th>\n",
       "      <th>SecuritiesAccount</th>\n",
       "      <th>CDAccount</th>\n",
       "      <th>CreditCard</th>\n",
       "    </tr>\n",
       "  </thead>\n",
       "  <tbody>\n",
       "    <tr>\n",
       "      <th>0</th>\n",
       "      <td>25</td>\n",
       "      <td>1</td>\n",
       "      <td>49</td>\n",
       "      <td>4</td>\n",
       "      <td>1.6</td>\n",
       "      <td>1</td>\n",
       "      <td>0</td>\n",
       "      <td>1</td>\n",
       "      <td>0</td>\n",
       "      <td>0</td>\n",
       "    </tr>\n",
       "    <tr>\n",
       "      <th>1</th>\n",
       "      <td>45</td>\n",
       "      <td>19</td>\n",
       "      <td>34</td>\n",
       "      <td>3</td>\n",
       "      <td>1.5</td>\n",
       "      <td>1</td>\n",
       "      <td>0</td>\n",
       "      <td>1</td>\n",
       "      <td>0</td>\n",
       "      <td>0</td>\n",
       "    </tr>\n",
       "    <tr>\n",
       "      <th>2</th>\n",
       "      <td>39</td>\n",
       "      <td>15</td>\n",
       "      <td>11</td>\n",
       "      <td>1</td>\n",
       "      <td>1.0</td>\n",
       "      <td>1</td>\n",
       "      <td>0</td>\n",
       "      <td>0</td>\n",
       "      <td>0</td>\n",
       "      <td>0</td>\n",
       "    </tr>\n",
       "    <tr>\n",
       "      <th>3</th>\n",
       "      <td>35</td>\n",
       "      <td>9</td>\n",
       "      <td>100</td>\n",
       "      <td>1</td>\n",
       "      <td>2.7</td>\n",
       "      <td>2</td>\n",
       "      <td>0</td>\n",
       "      <td>0</td>\n",
       "      <td>0</td>\n",
       "      <td>0</td>\n",
       "    </tr>\n",
       "    <tr>\n",
       "      <th>4</th>\n",
       "      <td>35</td>\n",
       "      <td>8</td>\n",
       "      <td>45</td>\n",
       "      <td>4</td>\n",
       "      <td>1.0</td>\n",
       "      <td>2</td>\n",
       "      <td>0</td>\n",
       "      <td>0</td>\n",
       "      <td>0</td>\n",
       "      <td>1</td>\n",
       "    </tr>\n",
       "  </tbody>\n",
       "</table>\n",
       "</div>"
      ],
      "text/plain": [
       "   Age  Experience  Income  Family  CCAvg  Education  Mortgage  \\\n",
       "0   25           1      49       4    1.6          1         0   \n",
       "1   45          19      34       3    1.5          1         0   \n",
       "2   39          15      11       1    1.0          1         0   \n",
       "3   35           9     100       1    2.7          2         0   \n",
       "4   35           8      45       4    1.0          2         0   \n",
       "\n",
       "   SecuritiesAccount  CDAccount  CreditCard  \n",
       "0                  1          0           0  \n",
       "1                  1          0           0  \n",
       "2                  0          0           0  \n",
       "3                  0          0           0  \n",
       "4                  0          0           1  "
      ]
     },
     "execution_count": 12,
     "metadata": {},
     "output_type": "execute_result"
    }
   ],
   "source": [
    "# X = Input feature (10 features: Age, Experience, Income, Family, CCAvg, Education, Mortgage, SecuritiesAccount, CDAccount, CreditCard)\n",
    "X = df.drop(['ID','ZIPCode','PersonalLoan','Online'], axis=1)\n",
    "X.head()"
   ]
  },
  {
   "cell_type": "code",
   "execution_count": 13,
   "metadata": {},
   "outputs": [
    {
     "data": {
      "text/html": [
       "<div>\n",
       "<style scoped>\n",
       "    .dataframe tbody tr th:only-of-type {\n",
       "        vertical-align: middle;\n",
       "    }\n",
       "\n",
       "    .dataframe tbody tr th {\n",
       "        vertical-align: top;\n",
       "    }\n",
       "\n",
       "    .dataframe thead th {\n",
       "        text-align: right;\n",
       "    }\n",
       "</style>\n",
       "<table border=\"1\" class=\"dataframe\">\n",
       "  <thead>\n",
       "    <tr style=\"text-align: right;\">\n",
       "      <th></th>\n",
       "      <th>Age</th>\n",
       "      <th>Experience</th>\n",
       "      <th>Income</th>\n",
       "      <th>Family</th>\n",
       "      <th>CCAvg</th>\n",
       "      <th>Education</th>\n",
       "      <th>Mortgage</th>\n",
       "      <th>SecuritiesAccount</th>\n",
       "      <th>CDAccount</th>\n",
       "      <th>CreditCard</th>\n",
       "    </tr>\n",
       "  </thead>\n",
       "  <tbody>\n",
       "    <tr>\n",
       "      <th>count</th>\n",
       "      <td>5000.000000</td>\n",
       "      <td>5000.000000</td>\n",
       "      <td>5000.000000</td>\n",
       "      <td>5000.000000</td>\n",
       "      <td>5000.000000</td>\n",
       "      <td>5000.000000</td>\n",
       "      <td>5000.000000</td>\n",
       "      <td>5000.000000</td>\n",
       "      <td>5000.00000</td>\n",
       "      <td>5000.000000</td>\n",
       "    </tr>\n",
       "    <tr>\n",
       "      <th>mean</th>\n",
       "      <td>45.338400</td>\n",
       "      <td>20.104600</td>\n",
       "      <td>73.774200</td>\n",
       "      <td>2.396400</td>\n",
       "      <td>1.937938</td>\n",
       "      <td>1.881000</td>\n",
       "      <td>56.498800</td>\n",
       "      <td>0.104400</td>\n",
       "      <td>0.06040</td>\n",
       "      <td>0.294000</td>\n",
       "    </tr>\n",
       "    <tr>\n",
       "      <th>std</th>\n",
       "      <td>11.463166</td>\n",
       "      <td>11.467954</td>\n",
       "      <td>46.033729</td>\n",
       "      <td>1.147663</td>\n",
       "      <td>1.747659</td>\n",
       "      <td>0.839869</td>\n",
       "      <td>101.713802</td>\n",
       "      <td>0.305809</td>\n",
       "      <td>0.23825</td>\n",
       "      <td>0.455637</td>\n",
       "    </tr>\n",
       "    <tr>\n",
       "      <th>min</th>\n",
       "      <td>23.000000</td>\n",
       "      <td>-3.000000</td>\n",
       "      <td>8.000000</td>\n",
       "      <td>1.000000</td>\n",
       "      <td>0.000000</td>\n",
       "      <td>1.000000</td>\n",
       "      <td>0.000000</td>\n",
       "      <td>0.000000</td>\n",
       "      <td>0.00000</td>\n",
       "      <td>0.000000</td>\n",
       "    </tr>\n",
       "    <tr>\n",
       "      <th>25%</th>\n",
       "      <td>35.000000</td>\n",
       "      <td>10.000000</td>\n",
       "      <td>39.000000</td>\n",
       "      <td>1.000000</td>\n",
       "      <td>0.700000</td>\n",
       "      <td>1.000000</td>\n",
       "      <td>0.000000</td>\n",
       "      <td>0.000000</td>\n",
       "      <td>0.00000</td>\n",
       "      <td>0.000000</td>\n",
       "    </tr>\n",
       "    <tr>\n",
       "      <th>50%</th>\n",
       "      <td>45.000000</td>\n",
       "      <td>20.000000</td>\n",
       "      <td>64.000000</td>\n",
       "      <td>2.000000</td>\n",
       "      <td>1.500000</td>\n",
       "      <td>2.000000</td>\n",
       "      <td>0.000000</td>\n",
       "      <td>0.000000</td>\n",
       "      <td>0.00000</td>\n",
       "      <td>0.000000</td>\n",
       "    </tr>\n",
       "    <tr>\n",
       "      <th>75%</th>\n",
       "      <td>55.000000</td>\n",
       "      <td>30.000000</td>\n",
       "      <td>98.000000</td>\n",
       "      <td>3.000000</td>\n",
       "      <td>2.500000</td>\n",
       "      <td>3.000000</td>\n",
       "      <td>101.000000</td>\n",
       "      <td>0.000000</td>\n",
       "      <td>0.00000</td>\n",
       "      <td>1.000000</td>\n",
       "    </tr>\n",
       "    <tr>\n",
       "      <th>max</th>\n",
       "      <td>67.000000</td>\n",
       "      <td>43.000000</td>\n",
       "      <td>224.000000</td>\n",
       "      <td>4.000000</td>\n",
       "      <td>10.000000</td>\n",
       "      <td>3.000000</td>\n",
       "      <td>635.000000</td>\n",
       "      <td>1.000000</td>\n",
       "      <td>1.00000</td>\n",
       "      <td>1.000000</td>\n",
       "    </tr>\n",
       "  </tbody>\n",
       "</table>\n",
       "</div>"
      ],
      "text/plain": [
       "               Age   Experience       Income       Family        CCAvg  \\\n",
       "count  5000.000000  5000.000000  5000.000000  5000.000000  5000.000000   \n",
       "mean     45.338400    20.104600    73.774200     2.396400     1.937938   \n",
       "std      11.463166    11.467954    46.033729     1.147663     1.747659   \n",
       "min      23.000000    -3.000000     8.000000     1.000000     0.000000   \n",
       "25%      35.000000    10.000000    39.000000     1.000000     0.700000   \n",
       "50%      45.000000    20.000000    64.000000     2.000000     1.500000   \n",
       "75%      55.000000    30.000000    98.000000     3.000000     2.500000   \n",
       "max      67.000000    43.000000   224.000000     4.000000    10.000000   \n",
       "\n",
       "         Education     Mortgage  SecuritiesAccount   CDAccount   CreditCard  \n",
       "count  5000.000000  5000.000000        5000.000000  5000.00000  5000.000000  \n",
       "mean      1.881000    56.498800           0.104400     0.06040     0.294000  \n",
       "std       0.839869   101.713802           0.305809     0.23825     0.455637  \n",
       "min       1.000000     0.000000           0.000000     0.00000     0.000000  \n",
       "25%       1.000000     0.000000           0.000000     0.00000     0.000000  \n",
       "50%       2.000000     0.000000           0.000000     0.00000     0.000000  \n",
       "75%       3.000000   101.000000           0.000000     0.00000     1.000000  \n",
       "max       3.000000   635.000000           1.000000     1.00000     1.000000  "
      ]
     },
     "execution_count": 13,
     "metadata": {},
     "output_type": "execute_result"
    }
   ],
   "source": [
    "X.describe()"
   ]
  },
  {
   "cell_type": "code",
   "execution_count": 14,
   "metadata": {},
   "outputs": [
    {
     "data": {
      "text/plain": [
       "array([0, 0, 0, ..., 0, 0, 0])"
      ]
     },
     "execution_count": 14,
     "metadata": {},
     "output_type": "execute_result"
    }
   ],
   "source": [
    "# y = Outcome (1 feature - PersonalLoan)\n",
    "y = df['PersonalLoan']\n",
    "class_le = LabelEncoder()\n",
    "y = class_le.fit_transform(y)\n",
    "y"
   ]
  },
  {
   "cell_type": "code",
   "execution_count": 15,
   "metadata": {},
   "outputs": [
    {
     "data": {
      "text/html": [
       "<div>\n",
       "<style scoped>\n",
       "    .dataframe tbody tr th:only-of-type {\n",
       "        vertical-align: middle;\n",
       "    }\n",
       "\n",
       "    .dataframe tbody tr th {\n",
       "        vertical-align: top;\n",
       "    }\n",
       "\n",
       "    .dataframe thead th {\n",
       "        text-align: right;\n",
       "    }\n",
       "</style>\n",
       "<table border=\"1\" class=\"dataframe\">\n",
       "  <thead>\n",
       "    <tr style=\"text-align: right;\">\n",
       "      <th></th>\n",
       "      <th>Age</th>\n",
       "      <th>Experience</th>\n",
       "      <th>Income</th>\n",
       "      <th>Family</th>\n",
       "      <th>CCAvg</th>\n",
       "      <th>Education</th>\n",
       "      <th>Mortgage</th>\n",
       "      <th>SecuritiesAccount</th>\n",
       "      <th>CDAccount</th>\n",
       "      <th>CreditCard</th>\n",
       "    </tr>\n",
       "  </thead>\n",
       "  <tbody>\n",
       "    <tr>\n",
       "      <th>0</th>\n",
       "      <td>-1.774417</td>\n",
       "      <td>-1.666078</td>\n",
       "      <td>-0.538229</td>\n",
       "      <td>1.397414</td>\n",
       "      <td>-0.193385</td>\n",
       "      <td>-1.049078</td>\n",
       "      <td>0</td>\n",
       "      <td>1</td>\n",
       "      <td>0</td>\n",
       "      <td>0</td>\n",
       "    </tr>\n",
       "    <tr>\n",
       "      <th>1</th>\n",
       "      <td>-0.029524</td>\n",
       "      <td>-0.096330</td>\n",
       "      <td>-0.864109</td>\n",
       "      <td>0.525991</td>\n",
       "      <td>-0.250611</td>\n",
       "      <td>-1.049078</td>\n",
       "      <td>0</td>\n",
       "      <td>1</td>\n",
       "      <td>0</td>\n",
       "      <td>0</td>\n",
       "    </tr>\n",
       "    <tr>\n",
       "      <th>2</th>\n",
       "      <td>-0.552992</td>\n",
       "      <td>-0.445163</td>\n",
       "      <td>-1.363793</td>\n",
       "      <td>-1.216855</td>\n",
       "      <td>-0.536736</td>\n",
       "      <td>-1.049078</td>\n",
       "      <td>0</td>\n",
       "      <td>0</td>\n",
       "      <td>0</td>\n",
       "      <td>0</td>\n",
       "    </tr>\n",
       "    <tr>\n",
       "      <th>3</th>\n",
       "      <td>-0.901970</td>\n",
       "      <td>-0.968413</td>\n",
       "      <td>0.569765</td>\n",
       "      <td>-1.216855</td>\n",
       "      <td>0.436091</td>\n",
       "      <td>0.141703</td>\n",
       "      <td>0</td>\n",
       "      <td>0</td>\n",
       "      <td>0</td>\n",
       "      <td>0</td>\n",
       "    </tr>\n",
       "    <tr>\n",
       "      <th>4</th>\n",
       "      <td>-0.901970</td>\n",
       "      <td>-1.055621</td>\n",
       "      <td>-0.625130</td>\n",
       "      <td>1.397414</td>\n",
       "      <td>-0.536736</td>\n",
       "      <td>0.141703</td>\n",
       "      <td>0</td>\n",
       "      <td>0</td>\n",
       "      <td>0</td>\n",
       "      <td>1</td>\n",
       "    </tr>\n",
       "  </tbody>\n",
       "</table>\n",
       "</div>"
      ],
      "text/plain": [
       "        Age  Experience    Income    Family     CCAvg  Education  Mortgage  \\\n",
       "0 -1.774417   -1.666078 -0.538229  1.397414 -0.193385  -1.049078         0   \n",
       "1 -0.029524   -0.096330 -0.864109  0.525991 -0.250611  -1.049078         0   \n",
       "2 -0.552992   -0.445163 -1.363793 -1.216855 -0.536736  -1.049078         0   \n",
       "3 -0.901970   -0.968413  0.569765 -1.216855  0.436091   0.141703         0   \n",
       "4 -0.901970   -1.055621 -0.625130  1.397414 -0.536736   0.141703         0   \n",
       "\n",
       "   SecuritiesAccount  CDAccount  CreditCard  \n",
       "0                  1          0           0  \n",
       "1                  1          0           0  \n",
       "2                  0          0           0  \n",
       "3                  0          0           0  \n",
       "4                  0          0           1  "
      ]
     },
     "execution_count": 15,
     "metadata": {},
     "output_type": "execute_result"
    }
   ],
   "source": [
    "# normalize all non-binary features (e.g. only SecuritiesAccount, CDAccount, and CreditCard are binary)\n",
    "# however left Mortgage per instructor's request/requirement > does not affect model accuracy\n",
    "\n",
    "stdsc = StandardScaler()\n",
    "X.iloc[:,[0,1,2,3,4,5]] = stdsc.fit_transform(X.iloc[:,[0,1,2,3,4,5]])\n",
    "#X['Intercept'] = 1     # if set intercept before, removes warning, but not recommended, changes logistic regression!!!\n",
    "X.head()"
   ]
  },
  {
   "cell_type": "markdown",
   "metadata": {},
   "source": [
    "#### 3. Split data into training and test datasets"
   ]
  },
  {
   "cell_type": "code",
   "execution_count": 16,
   "metadata": {},
   "outputs": [],
   "source": [
    "X_train, X_test, y_train, y_test = train_test_split(X,y,test_size=0.2)"
   ]
  },
  {
   "cell_type": "code",
   "execution_count": 17,
   "metadata": {},
   "outputs": [
    {
     "data": {
      "text/plain": [
       "LogisticRegression()"
      ]
     },
     "execution_count": 17,
     "metadata": {},
     "output_type": "execute_result"
    }
   ],
   "source": [
    "# logistic = LogisticRegression(solver='liblinear') # good for smaller datasets, avoids warnings\n",
    "logistic = LogisticRegression()     # 'lbfgs' is default optimizer, but throws iterations warning\n",
    "logistic.fit(X_train, y_train)"
   ]
  },
  {
   "cell_type": "code",
   "execution_count": 18,
   "metadata": {},
   "outputs": [],
   "source": [
    "y_pred = logistic.predict(X_test) "
   ]
  },
  {
   "cell_type": "code",
   "execution_count": 19,
   "metadata": {},
   "outputs": [
    {
     "name": "stdout",
     "output_type": "stream",
     "text": [
      "Model Accuracy Score: 0.947\n"
     ]
    }
   ],
   "source": [
    "print(f'Model Accuracy Score: {accuracy_score(y_test,y_pred)}')"
   ]
  },
  {
   "cell_type": "markdown",
   "metadata": {},
   "source": [
    "#### 4. Draw confusion matrix"
   ]
  },
  {
   "cell_type": "code",
   "execution_count": 20,
   "metadata": {},
   "outputs": [
    {
     "data": {
      "text/html": [
       "<div>\n",
       "<style scoped>\n",
       "    .dataframe tbody tr th:only-of-type {\n",
       "        vertical-align: middle;\n",
       "    }\n",
       "\n",
       "    .dataframe tbody tr th {\n",
       "        vertical-align: top;\n",
       "    }\n",
       "\n",
       "    .dataframe thead th {\n",
       "        text-align: right;\n",
       "    }\n",
       "</style>\n",
       "<table border=\"1\" class=\"dataframe\">\n",
       "  <thead>\n",
       "    <tr style=\"text-align: right;\">\n",
       "      <th></th>\n",
       "      <th>Predict[0]</th>\n",
       "      <th>Predict[1]</th>\n",
       "    </tr>\n",
       "  </thead>\n",
       "  <tbody>\n",
       "    <tr>\n",
       "      <th>True[0]</th>\n",
       "      <td>891</td>\n",
       "      <td>11</td>\n",
       "    </tr>\n",
       "    <tr>\n",
       "      <th>True[1]</th>\n",
       "      <td>42</td>\n",
       "      <td>56</td>\n",
       "    </tr>\n",
       "  </tbody>\n",
       "</table>\n",
       "</div>"
      ],
      "text/plain": [
       "         Predict[0]  Predict[1]\n",
       "True[0]         891          11\n",
       "True[1]          42          56"
      ]
     },
     "execution_count": 20,
     "metadata": {},
     "output_type": "execute_result"
    }
   ],
   "source": [
    "confmat = pd.DataFrame(confusion_matrix(y_test, y_pred),\n",
    "                      index  =['True[0]','True[1]'],\n",
    "                      columns=['Predict[0]','Predict[1]'])\n",
    "confmat"
   ]
  },
  {
   "cell_type": "code",
   "execution_count": 21,
   "metadata": {},
   "outputs": [
    {
     "data": {
      "image/png": "[encoded data removed]",
      "text/plain": [
       "<Figure size 432x288 with 2 Axes>"
      ]
     },
     "metadata": {
      "needs_background": "light"
     },
     "output_type": "display_data"
    }
   ],
   "source": [
    "plot_confusion_matrix(logistic, X_test, y_test, cmap=plt.cm.Blues)\n",
    "plt.title('Confustion Matrix (class_prior[0.5,0.5])')\n",
    "plt.show()"
   ]
  },
  {
   "cell_type": "markdown",
   "metadata": {},
   "source": [
    "#### 5. Draw ROC Curve and cumulative gain chart"
   ]
  },
  {
   "cell_type": "code",
   "execution_count": 22,
   "metadata": {},
   "outputs": [
    {
     "data": {
      "image/png": "[encoded data removed]",
      "text/plain": [
       "<Figure size 432x288 with 1 Axes>"
      ]
     },
     "metadata": {
      "needs_background": "light"
     },
     "output_type": "display_data"
    }
   ],
   "source": [
    "fpr, tpr, thresholds = roc_curve(y_test, logistic.predict_proba(X_test)[:,1])\n",
    "plt.plot(fpr, tpr, '--', label=\"Logistic Regression\")\n",
    "plt.plot([0,1],[0,1],'k--', label='Random Guess')\n",
    "plt.plot([fpr],[tpr], 'r-', ms=10)\n",
    "plt.xlabel('FPR')\n",
    "plt.ylabel('TPR')\n",
    "plt.title('ROC')\n",
    "plt.show()"
   ]
  },
  {
   "cell_type": "code",
   "execution_count": 23,
   "metadata": {},
   "outputs": [
    {
     "data": {
      "image/png": "[encoded data removed]",
      "text/plain": [
       "<Figure size 432x288 with 1 Axes>"
      ]
     },
     "metadata": {
      "needs_background": "light"
     },
     "output_type": "display_data"
    }
   ],
   "source": [
    "skplt.metrics.plot_roc(y_test, logistic.predict_proba(X_test), plot_micro=False)\n",
    "plt.show()"
   ]
  },
  {
   "cell_type": "code",
   "execution_count": 24,
   "metadata": {},
   "outputs": [
    {
     "data": {
      "image/png": "[encoded data removed]",
      "text/plain": [
       "<Figure size 432x288 with 1 Axes>"
      ]
     },
     "metadata": {
      "needs_background": "light"
     },
     "output_type": "display_data"
    }
   ],
   "source": [
    "skplt.metrics.plot_cumulative_gain(y_test, logistic.predict_proba(X_test))\n",
    "plt.show()"
   ]
  },
  {
   "cell_type": "markdown",
   "metadata": {},
   "source": [
    "#### 6. Use sm.logit with \"intercept=1\" to check coefficients"
   ]
  },
  {
   "cell_type": "code",
   "execution_count": 25,
   "metadata": {},
   "outputs": [],
   "source": [
    "# Set intercept after split, can cause warnings but recommended vs adding prior to split (step 2)\n",
    "X_train['Intercept'] = 1                   "
   ]
  },
  {
   "cell_type": "raw",
   "metadata": {},
   "source": [
    "# Option 1: Use of full dataset to apply feature selection globally (more processing)\n",
    "# logistic_ml    = sm.Logit(y, X)"
   ]
  },
  {
   "cell_type": "code",
   "execution_count": 26,
   "metadata": {},
   "outputs": [],
   "source": [
    "# Option 2: Split and use training dataset; can confirm by matching Feature Selection of test/train.\n",
    "# Prof. recommends using X_train for Hw5 per email on 031621\n",
    "logistic_ml   = sm.Logit(y_train, X_train)"
   ]
  },
  {
   "cell_type": "code",
   "execution_count": 27,
   "metadata": {},
   "outputs": [
    {
     "name": "stdout",
     "output_type": "stream",
     "text": [
      "Optimization terminated successfully.\n",
      "         Current function value: 0.128942\n",
      "         Iterations 9\n"
     ]
    },
    {
     "data": {
      "text/html": [
       "<table class=\"simpletable\">\n",
       "<tr>\n",
       "        <td>Model:</td>              <td>Logit</td>      <td>Pseudo R-squared:</td>   <td>0.591</td>  \n",
       "</tr>\n",
       "<tr>\n",
       "  <td>Dependent Variable:</td>         <td>y</td>              <td>AIC:</td>        <td>1053.5329</td>\n",
       "</tr>\n",
       "<tr>\n",
       "         <td>Date:</td>        <td>2021-05-11 17:32</td>       <td>BIC:</td>        <td>1122.7675</td>\n",
       "</tr>\n",
       "<tr>\n",
       "   <td>No. Observations:</td>        <td>4000</td>        <td>Log-Likelihood:</td>   <td>-515.77</td> \n",
       "</tr>\n",
       "<tr>\n",
       "       <td>Df Model:</td>             <td>10</td>            <td>LL-Null:</td>       <td>-1260.3</td> \n",
       "</tr>\n",
       "<tr>\n",
       "     <td>Df Residuals:</td>          <td>3989</td>         <td>LLR p-value:</td>     <td>0.0000</td>  \n",
       "</tr>\n",
       "<tr>\n",
       "      <td>Converged:</td>           <td>1.0000</td>           <td>Scale:</td>        <td>1.0000</td>  \n",
       "</tr>\n",
       "<tr>\n",
       "    <td>No. Iterations:</td>        <td>9.0000</td>              <td></td>              <td></td>     \n",
       "</tr>\n",
       "</table>\n",
       "<table class=\"simpletable\">\n",
       "<tr>\n",
       "          <td></td>           <th>Coef.</th>  <th>Std.Err.</th>     <th>z</th>     <th>P>|z|</th> <th>[0.025</th>  <th>0.975]</th> \n",
       "</tr>\n",
       "<tr>\n",
       "  <th>Age</th>               <td>-0.5726</td>  <td>0.7829</td>   <td>-0.7314</td> <td>0.4645</td> <td>-2.1070</td> <td>0.9618</td> \n",
       "</tr>\n",
       "<tr>\n",
       "  <th>Experience</th>        <td>0.7104</td>   <td>0.7800</td>   <td>0.9108</td>  <td>0.3624</td> <td>-0.8183</td> <td>2.2391</td> \n",
       "</tr>\n",
       "<tr>\n",
       "  <th>Income</th>            <td>2.4826</td>   <td>0.1339</td>   <td>18.5355</td> <td>0.0000</td> <td>2.2200</td>  <td>2.7451</td> \n",
       "</tr>\n",
       "<tr>\n",
       "  <th>Family</th>            <td>0.7573</td>   <td>0.0937</td>   <td>8.0835</td>  <td>0.0000</td> <td>0.5737</td>  <td>0.9410</td> \n",
       "</tr>\n",
       "<tr>\n",
       "  <th>CCAvg</th>             <td>0.2306</td>   <td>0.0774</td>   <td>2.9780</td>  <td>0.0029</td> <td>0.0788</td>  <td>0.3823</td> \n",
       "</tr>\n",
       "<tr>\n",
       "  <th>Education</th>         <td>1.4370</td>   <td>0.1069</td>   <td>13.4376</td> <td>0.0000</td> <td>1.2274</td>  <td>1.6466</td> \n",
       "</tr>\n",
       "<tr>\n",
       "  <th>Mortgage</th>          <td>0.0008</td>   <td>0.0006</td>   <td>1.2614</td>  <td>0.2072</td> <td>-0.0004</td> <td>0.0020</td> \n",
       "</tr>\n",
       "<tr>\n",
       "  <th>SecuritiesAccount</th> <td>-1.0027</td>  <td>0.3307</td>   <td>-3.0319</td> <td>0.0024</td> <td>-1.6509</td> <td>-0.3545</td>\n",
       "</tr>\n",
       "<tr>\n",
       "  <th>CDAccount</th>         <td>3.3350</td>   <td>0.3429</td>   <td>9.7258</td>  <td>0.0000</td> <td>2.6629</td>  <td>4.0071</td> \n",
       "</tr>\n",
       "<tr>\n",
       "  <th>CreditCard</th>        <td>-0.9569</td>  <td>0.2234</td>   <td>-4.2837</td> <td>0.0000</td> <td>-1.3948</td> <td>-0.5191</td>\n",
       "</tr>\n",
       "<tr>\n",
       "  <th>Intercept</th>         <td>-4.5171</td>  <td>0.1883</td>  <td>-23.9865</td> <td>0.0000</td> <td>-4.8862</td> <td>-4.1480</td>\n",
       "</tr>\n",
       "</table>"
      ],
      "text/plain": [
       "<class 'statsmodels.iolib.summary2.Summary'>\n",
       "\"\"\"\n",
       "                          Results: Logit\n",
       "==================================================================\n",
       "Model:                Logit            Pseudo R-squared: 0.591    \n",
       "Dependent Variable:   y                AIC:              1053.5329\n",
       "Date:                 2021-05-11 17:32 BIC:              1122.7675\n",
       "No. Observations:     4000             Log-Likelihood:   -515.77  \n",
       "Df Model:             10               LL-Null:          -1260.3  \n",
       "Df Residuals:         3989             LLR p-value:      0.0000   \n",
       "Converged:            1.0000           Scale:            1.0000   \n",
       "No. Iterations:       9.0000                                      \n",
       "------------------------------------------------------------------\n",
       "                   Coef.  Std.Err.    z     P>|z|   [0.025  0.975]\n",
       "------------------------------------------------------------------\n",
       "Age               -0.5726   0.7829  -0.7314 0.4645 -2.1070  0.9618\n",
       "Experience         0.7104   0.7800   0.9108 0.3624 -0.8183  2.2391\n",
       "Income             2.4826   0.1339  18.5355 0.0000  2.2200  2.7451\n",
       "Family             0.7573   0.0937   8.0835 0.0000  0.5737  0.9410\n",
       "CCAvg              0.2306   0.0774   2.9780 0.0029  0.0788  0.3823\n",
       "Education          1.4370   0.1069  13.4376 0.0000  1.2274  1.6466\n",
       "Mortgage           0.0008   0.0006   1.2614 0.2072 -0.0004  0.0020\n",
       "SecuritiesAccount -1.0027   0.3307  -3.0319 0.0024 -1.6509 -0.3545\n",
       "CDAccount          3.3350   0.3429   9.7258 0.0000  2.6629  4.0071\n",
       "CreditCard        -0.9569   0.2234  -4.2837 0.0000 -1.3948 -0.5191\n",
       "Intercept         -4.5171   0.1883 -23.9865 0.0000 -4.8862 -4.1480\n",
       "==================================================================\n",
       "\n",
       "\"\"\""
      ]
     },
     "execution_count": 27,
     "metadata": {},
     "output_type": "execute_result"
    }
   ],
   "source": [
    "logistic_coef = logistic_ml.fit()\n",
    "logistic_coef.summary2()"
   ]
  },
  {
   "cell_type": "markdown",
   "metadata": {},
   "source": [
    "#### 7. Calculate Odds Ratio (OR) for each input feature for unit change=1"
   ]
  },
  {
   "cell_type": "code",
   "execution_count": 28,
   "metadata": {},
   "outputs": [
    {
     "data": {
      "text/plain": [
       "Age                   0.564059\n",
       "Experience            2.034849\n",
       "Income               11.971815\n",
       "Family                2.132588\n",
       "CCAvg                 1.259293\n",
       "Education             4.208133\n",
       "Mortgage              1.000780\n",
       "SecuritiesAccount     0.366881\n",
       "CDAccount            28.079066\n",
       "CreditCard            0.384068\n",
       "Intercept             0.010920\n",
       "dtype: float64"
      ]
     },
     "execution_count": 28,
     "metadata": {},
     "output_type": "execute_result"
    }
   ],
   "source": [
    "np.exp(logistic_coef.params)"
   ]
  },
  {
   "cell_type": "markdown",
   "metadata": {},
   "source": [
    "<div class=\"alert alert-block alert-warning\">\n",
    "    <b>Observation:</b> <br><u>By not setting parameters in split or normalizer</u>, P-value for <b>CCAvg</b> fluctuates. Sometimes, it's above P < 0.01 and sometimes below, resulting in either 6 or 7 features to be selected. When:\n",
    "<br>- above P-value (not important), model accuracy is higher before and after feature selection; 1 less feature selection (CCAvg).\n",
    "<br>- below P-value (important), model accuracy is lower before and after feature selection; 1 more feature selection (CCAvg).\n",
    "<br> Model accuracy variance is ~2%.\n",
    "    <br>\n",
    "    <br>\n",
    "Originally, setting intercept after split caused warnings, but did not affect results. To fix this I set the intercept before the split and results were the same; however, Prof. says that the intercept should be set after the split. \n",
    "    <br>\n",
    "    Asking why - if intercept before or after split and results were the same, why does it matter?\n",
    "</div>"
   ]
  },
  {
   "cell_type": "markdown",
   "metadata": {},
   "source": [
    "#### 8. Choose input features based on 99% confidence level (P < 0.01); redo classification via LogisticRegression in sckitlearn with same parameter set from #3; use same test data; draw confusion matrix."
   ]
  },
  {
   "cell_type": "markdown",
   "metadata": {},
   "source": [
    "Upon visual inspection; the following are 7 features are <b>statistically significant</b>, plus the intercept:\n",
    "* Income\n",
    "* Family\n",
    "* CCAvg\n",
    "* Eduction\n",
    "* SecuritiesAccount\n",
    "* CDAccount\n",
    "* CreditCard\n",
    "* Intercept (<i>not a feature</i>)"
   ]
  },
  {
   "cell_type": "markdown",
   "metadata": {},
   "source": [
    "#### 8(2). Split data into 'input' and 'output'"
   ]
  },
  {
   "cell_type": "code",
   "execution_count": 29,
   "metadata": {},
   "outputs": [
    {
     "data": {
      "text/html": [
       "<div>\n",
       "<style scoped>\n",
       "    .dataframe tbody tr th:only-of-type {\n",
       "        vertical-align: middle;\n",
       "    }\n",
       "\n",
       "    .dataframe tbody tr th {\n",
       "        vertical-align: top;\n",
       "    }\n",
       "\n",
       "    .dataframe thead th {\n",
       "        text-align: right;\n",
       "    }\n",
       "</style>\n",
       "<table border=\"1\" class=\"dataframe\">\n",
       "  <thead>\n",
       "    <tr style=\"text-align: right;\">\n",
       "      <th></th>\n",
       "      <th>Income</th>\n",
       "      <th>Family</th>\n",
       "      <th>CCAvg</th>\n",
       "      <th>Education</th>\n",
       "      <th>SecuritiesAccount</th>\n",
       "      <th>CDAccount</th>\n",
       "      <th>CreditCard</th>\n",
       "    </tr>\n",
       "  </thead>\n",
       "  <tbody>\n",
       "    <tr>\n",
       "      <th>0</th>\n",
       "      <td>49</td>\n",
       "      <td>4</td>\n",
       "      <td>1.6</td>\n",
       "      <td>1</td>\n",
       "      <td>1</td>\n",
       "      <td>0</td>\n",
       "      <td>0</td>\n",
       "    </tr>\n",
       "    <tr>\n",
       "      <th>1</th>\n",
       "      <td>34</td>\n",
       "      <td>3</td>\n",
       "      <td>1.5</td>\n",
       "      <td>1</td>\n",
       "      <td>1</td>\n",
       "      <td>0</td>\n",
       "      <td>0</td>\n",
       "    </tr>\n",
       "    <tr>\n",
       "      <th>2</th>\n",
       "      <td>11</td>\n",
       "      <td>1</td>\n",
       "      <td>1.0</td>\n",
       "      <td>1</td>\n",
       "      <td>0</td>\n",
       "      <td>0</td>\n",
       "      <td>0</td>\n",
       "    </tr>\n",
       "    <tr>\n",
       "      <th>3</th>\n",
       "      <td>100</td>\n",
       "      <td>1</td>\n",
       "      <td>2.7</td>\n",
       "      <td>2</td>\n",
       "      <td>0</td>\n",
       "      <td>0</td>\n",
       "      <td>0</td>\n",
       "    </tr>\n",
       "    <tr>\n",
       "      <th>4</th>\n",
       "      <td>45</td>\n",
       "      <td>4</td>\n",
       "      <td>1.0</td>\n",
       "      <td>2</td>\n",
       "      <td>0</td>\n",
       "      <td>0</td>\n",
       "      <td>1</td>\n",
       "    </tr>\n",
       "  </tbody>\n",
       "</table>\n",
       "</div>"
      ],
      "text/plain": [
       "   Income  Family  CCAvg  Education  SecuritiesAccount  CDAccount  CreditCard\n",
       "0      49       4    1.6          1                  1          0           0\n",
       "1      34       3    1.5          1                  1          0           0\n",
       "2      11       1    1.0          1                  0          0           0\n",
       "3     100       1    2.7          2                  0          0           0\n",
       "4      45       4    1.0          2                  0          0           1"
      ]
     },
     "execution_count": 29,
     "metadata": {},
     "output_type": "execute_result"
    }
   ],
   "source": [
    "# X = Input feature (features: Income, Family, Education, CDAccount, CreditCard)\n",
    "X = df.drop(['ID','Age','Experience','ZIPCode','Mortgage','PersonalLoan','Online'], axis=1)\n",
    "X.head()"
   ]
  },
  {
   "cell_type": "code",
   "execution_count": 30,
   "metadata": {},
   "outputs": [
    {
     "data": {
      "text/html": [
       "<div>\n",
       "<style scoped>\n",
       "    .dataframe tbody tr th:only-of-type {\n",
       "        vertical-align: middle;\n",
       "    }\n",
       "\n",
       "    .dataframe tbody tr th {\n",
       "        vertical-align: top;\n",
       "    }\n",
       "\n",
       "    .dataframe thead th {\n",
       "        text-align: right;\n",
       "    }\n",
       "</style>\n",
       "<table border=\"1\" class=\"dataframe\">\n",
       "  <thead>\n",
       "    <tr style=\"text-align: right;\">\n",
       "      <th></th>\n",
       "      <th>Income</th>\n",
       "      <th>Family</th>\n",
       "      <th>CCAvg</th>\n",
       "      <th>Education</th>\n",
       "      <th>SecuritiesAccount</th>\n",
       "      <th>CDAccount</th>\n",
       "      <th>CreditCard</th>\n",
       "    </tr>\n",
       "  </thead>\n",
       "  <tbody>\n",
       "    <tr>\n",
       "      <th>count</th>\n",
       "      <td>5000.000000</td>\n",
       "      <td>5000.000000</td>\n",
       "      <td>5000.000000</td>\n",
       "      <td>5000.000000</td>\n",
       "      <td>5000.000000</td>\n",
       "      <td>5000.00000</td>\n",
       "      <td>5000.000000</td>\n",
       "    </tr>\n",
       "    <tr>\n",
       "      <th>mean</th>\n",
       "      <td>73.774200</td>\n",
       "      <td>2.396400</td>\n",
       "      <td>1.937938</td>\n",
       "      <td>1.881000</td>\n",
       "      <td>0.104400</td>\n",
       "      <td>0.06040</td>\n",
       "      <td>0.294000</td>\n",
       "    </tr>\n",
       "    <tr>\n",
       "      <th>std</th>\n",
       "      <td>46.033729</td>\n",
       "      <td>1.147663</td>\n",
       "      <td>1.747659</td>\n",
       "      <td>0.839869</td>\n",
       "      <td>0.305809</td>\n",
       "      <td>0.23825</td>\n",
       "      <td>0.455637</td>\n",
       "    </tr>\n",
       "    <tr>\n",
       "      <th>min</th>\n",
       "      <td>8.000000</td>\n",
       "      <td>1.000000</td>\n",
       "      <td>0.000000</td>\n",
       "      <td>1.000000</td>\n",
       "      <td>0.000000</td>\n",
       "      <td>0.00000</td>\n",
       "      <td>0.000000</td>\n",
       "    </tr>\n",
       "    <tr>\n",
       "      <th>25%</th>\n",
       "      <td>39.000000</td>\n",
       "      <td>1.000000</td>\n",
       "      <td>0.700000</td>\n",
       "      <td>1.000000</td>\n",
       "      <td>0.000000</td>\n",
       "      <td>0.00000</td>\n",
       "      <td>0.000000</td>\n",
       "    </tr>\n",
       "    <tr>\n",
       "      <th>50%</th>\n",
       "      <td>64.000000</td>\n",
       "      <td>2.000000</td>\n",
       "      <td>1.500000</td>\n",
       "      <td>2.000000</td>\n",
       "      <td>0.000000</td>\n",
       "      <td>0.00000</td>\n",
       "      <td>0.000000</td>\n",
       "    </tr>\n",
       "    <tr>\n",
       "      <th>75%</th>\n",
       "      <td>98.000000</td>\n",
       "      <td>3.000000</td>\n",
       "      <td>2.500000</td>\n",
       "      <td>3.000000</td>\n",
       "      <td>0.000000</td>\n",
       "      <td>0.00000</td>\n",
       "      <td>1.000000</td>\n",
       "    </tr>\n",
       "    <tr>\n",
       "      <th>max</th>\n",
       "      <td>224.000000</td>\n",
       "      <td>4.000000</td>\n",
       "      <td>10.000000</td>\n",
       "      <td>3.000000</td>\n",
       "      <td>1.000000</td>\n",
       "      <td>1.00000</td>\n",
       "      <td>1.000000</td>\n",
       "    </tr>\n",
       "  </tbody>\n",
       "</table>\n",
       "</div>"
      ],
      "text/plain": [
       "            Income       Family        CCAvg    Education  SecuritiesAccount  \\\n",
       "count  5000.000000  5000.000000  5000.000000  5000.000000        5000.000000   \n",
       "mean     73.774200     2.396400     1.937938     1.881000           0.104400   \n",
       "std      46.033729     1.147663     1.747659     0.839869           0.305809   \n",
       "min       8.000000     1.000000     0.000000     1.000000           0.000000   \n",
       "25%      39.000000     1.000000     0.700000     1.000000           0.000000   \n",
       "50%      64.000000     2.000000     1.500000     2.000000           0.000000   \n",
       "75%      98.000000     3.000000     2.500000     3.000000           0.000000   \n",
       "max     224.000000     4.000000    10.000000     3.000000           1.000000   \n",
       "\n",
       "        CDAccount   CreditCard  \n",
       "count  5000.00000  5000.000000  \n",
       "mean      0.06040     0.294000  \n",
       "std       0.23825     0.455637  \n",
       "min       0.00000     0.000000  \n",
       "25%       0.00000     0.000000  \n",
       "50%       0.00000     0.000000  \n",
       "75%       0.00000     1.000000  \n",
       "max       1.00000     1.000000  "
      ]
     },
     "execution_count": 30,
     "metadata": {},
     "output_type": "execute_result"
    }
   ],
   "source": [
    "X.describe()"
   ]
  },
  {
   "cell_type": "code",
   "execution_count": 31,
   "metadata": {},
   "outputs": [
    {
     "data": {
      "text/plain": [
       "array([0, 0, 0, ..., 0, 0, 0])"
      ]
     },
     "execution_count": 31,
     "metadata": {},
     "output_type": "execute_result"
    }
   ],
   "source": [
    "# y = Outcome (1 feature - PersonalLoan)\n",
    "y = df['PersonalLoan']\n",
    "class_le = LabelEncoder()\n",
    "y = class_le.fit_transform(y)\n",
    "y"
   ]
  },
  {
   "cell_type": "code",
   "execution_count": 32,
   "metadata": {},
   "outputs": [
    {
     "data": {
      "text/html": [
       "<div>\n",
       "<style scoped>\n",
       "    .dataframe tbody tr th:only-of-type {\n",
       "        vertical-align: middle;\n",
       "    }\n",
       "\n",
       "    .dataframe tbody tr th {\n",
       "        vertical-align: top;\n",
       "    }\n",
       "\n",
       "    .dataframe thead th {\n",
       "        text-align: right;\n",
       "    }\n",
       "</style>\n",
       "<table border=\"1\" class=\"dataframe\">\n",
       "  <thead>\n",
       "    <tr style=\"text-align: right;\">\n",
       "      <th></th>\n",
       "      <th>Income</th>\n",
       "      <th>Family</th>\n",
       "      <th>CCAvg</th>\n",
       "      <th>Education</th>\n",
       "      <th>SecuritiesAccount</th>\n",
       "      <th>CDAccount</th>\n",
       "      <th>CreditCard</th>\n",
       "    </tr>\n",
       "  </thead>\n",
       "  <tbody>\n",
       "    <tr>\n",
       "      <th>0</th>\n",
       "      <td>-0.538229</td>\n",
       "      <td>1.397414</td>\n",
       "      <td>-0.193385</td>\n",
       "      <td>-1.049078</td>\n",
       "      <td>1</td>\n",
       "      <td>0</td>\n",
       "      <td>0</td>\n",
       "    </tr>\n",
       "    <tr>\n",
       "      <th>1</th>\n",
       "      <td>-0.864109</td>\n",
       "      <td>0.525991</td>\n",
       "      <td>-0.250611</td>\n",
       "      <td>-1.049078</td>\n",
       "      <td>1</td>\n",
       "      <td>0</td>\n",
       "      <td>0</td>\n",
       "    </tr>\n",
       "    <tr>\n",
       "      <th>2</th>\n",
       "      <td>-1.363793</td>\n",
       "      <td>-1.216855</td>\n",
       "      <td>-0.536736</td>\n",
       "      <td>-1.049078</td>\n",
       "      <td>0</td>\n",
       "      <td>0</td>\n",
       "      <td>0</td>\n",
       "    </tr>\n",
       "    <tr>\n",
       "      <th>3</th>\n",
       "      <td>0.569765</td>\n",
       "      <td>-1.216855</td>\n",
       "      <td>0.436091</td>\n",
       "      <td>0.141703</td>\n",
       "      <td>0</td>\n",
       "      <td>0</td>\n",
       "      <td>0</td>\n",
       "    </tr>\n",
       "    <tr>\n",
       "      <th>4</th>\n",
       "      <td>-0.625130</td>\n",
       "      <td>1.397414</td>\n",
       "      <td>-0.536736</td>\n",
       "      <td>0.141703</td>\n",
       "      <td>0</td>\n",
       "      <td>0</td>\n",
       "      <td>1</td>\n",
       "    </tr>\n",
       "  </tbody>\n",
       "</table>\n",
       "</div>"
      ],
      "text/plain": [
       "     Income    Family     CCAvg  Education  SecuritiesAccount  CDAccount  \\\n",
       "0 -0.538229  1.397414 -0.193385  -1.049078                  1          0   \n",
       "1 -0.864109  0.525991 -0.250611  -1.049078                  1          0   \n",
       "2 -1.363793 -1.216855 -0.536736  -1.049078                  0          0   \n",
       "3  0.569765 -1.216855  0.436091   0.141703                  0          0   \n",
       "4 -0.625130  1.397414 -0.536736   0.141703                  0          0   \n",
       "\n",
       "   CreditCard  \n",
       "0           0  \n",
       "1           0  \n",
       "2           0  \n",
       "3           0  \n",
       "4           1  "
      ]
     },
     "execution_count": 32,
     "metadata": {},
     "output_type": "execute_result"
    }
   ],
   "source": [
    "# standardize non-binary values\n",
    "stdsc = StandardScaler()\n",
    "X.iloc[:,[0,1,2,3]] = stdsc.fit_transform(X.iloc[:,[0,1,2,3]])  \n",
    "X.head()"
   ]
  },
  {
   "cell_type": "markdown",
   "metadata": {},
   "source": [
    "#### 8(3). Split data into training and test datasets"
   ]
  },
  {
   "cell_type": "code",
   "execution_count": 33,
   "metadata": {},
   "outputs": [],
   "source": [
    "X_train, X_test, y_train, y_test = train_test_split(X,y,test_size=0.2)"
   ]
  },
  {
   "cell_type": "code",
   "execution_count": 34,
   "metadata": {},
   "outputs": [
    {
     "data": {
      "text/plain": [
       "LogisticRegression()"
      ]
     },
     "execution_count": 34,
     "metadata": {},
     "output_type": "execute_result"
    }
   ],
   "source": [
    "logistic = LogisticRegression()\n",
    "logistic.fit(X_train, y_train)"
   ]
  },
  {
   "cell_type": "code",
   "execution_count": 35,
   "metadata": {},
   "outputs": [],
   "source": [
    "y_pred = logistic.predict(X_test)"
   ]
  },
  {
   "cell_type": "code",
   "execution_count": 36,
   "metadata": {},
   "outputs": [
    {
     "name": "stdout",
     "output_type": "stream",
     "text": [
      "Model Accuracy Score: 0.949\n"
     ]
    }
   ],
   "source": [
    "print(f'Model Accuracy Score: {accuracy_score(y_test,y_pred)}')"
   ]
  },
  {
   "cell_type": "markdown",
   "metadata": {},
   "source": [
    "#### 8(4). Draw confusion matrix"
   ]
  },
  {
   "cell_type": "code",
   "execution_count": 37,
   "metadata": {},
   "outputs": [
    {
     "data": {
      "text/html": [
       "<div>\n",
       "<style scoped>\n",
       "    .dataframe tbody tr th:only-of-type {\n",
       "        vertical-align: middle;\n",
       "    }\n",
       "\n",
       "    .dataframe tbody tr th {\n",
       "        vertical-align: top;\n",
       "    }\n",
       "\n",
       "    .dataframe thead th {\n",
       "        text-align: right;\n",
       "    }\n",
       "</style>\n",
       "<table border=\"1\" class=\"dataframe\">\n",
       "  <thead>\n",
       "    <tr style=\"text-align: right;\">\n",
       "      <th></th>\n",
       "      <th>Predict[0]</th>\n",
       "      <th>Predict[1]</th>\n",
       "    </tr>\n",
       "  </thead>\n",
       "  <tbody>\n",
       "    <tr>\n",
       "      <th>True[0]</th>\n",
       "      <td>894</td>\n",
       "      <td>10</td>\n",
       "    </tr>\n",
       "    <tr>\n",
       "      <th>True[1]</th>\n",
       "      <td>41</td>\n",
       "      <td>55</td>\n",
       "    </tr>\n",
       "  </tbody>\n",
       "</table>\n",
       "</div>"
      ],
      "text/plain": [
       "         Predict[0]  Predict[1]\n",
       "True[0]         894          10\n",
       "True[1]          41          55"
      ]
     },
     "execution_count": 37,
     "metadata": {},
     "output_type": "execute_result"
    }
   ],
   "source": [
    "confmat = pd.DataFrame(confusion_matrix(y_test, y_pred),\n",
    "                      index  =['True[0]','True[1]'],\n",
    "                      columns=['Predict[0]','Predict[1]'])\n",
    "confmat"
   ]
  },
  {
   "cell_type": "code",
   "execution_count": 38,
   "metadata": {},
   "outputs": [
    {
     "data": {
      "image/png": "[encoded data removed]",
      "text/plain": [
       "<Figure size 432x288 with 2 Axes>"
      ]
     },
     "metadata": {
      "needs_background": "light"
     },
     "output_type": "display_data"
    }
   ],
   "source": [
    "plot_confusion_matrix(logistic, X_test, y_test, cmap=plt.cm.Blues)\n",
    "plt.title('Confustion Matrix (class_prior[0.5,0.5])')\n",
    "plt.show()"
   ]
  },
  {
   "cell_type": "markdown",
   "metadata": {},
   "source": [
    "#### 8(5). Draw ROC Curve and cumulative gain chart"
   ]
  },
  {
   "cell_type": "code",
   "execution_count": 39,
   "metadata": {},
   "outputs": [
    {
     "data": {
      "image/png": "[encoded data removed]",
      "text/plain": [
       "<Figure size 432x288 with 1 Axes>"
      ]
     },
     "metadata": {
      "needs_background": "light"
     },
     "output_type": "display_data"
    }
   ],
   "source": [
    "skplt.metrics.plot_roc(y_test, logistic.predict_proba(X_test), plot_micro=False)\n",
    "plt.show()"
   ]
  },
  {
   "cell_type": "code",
   "execution_count": 40,
   "metadata": {},
   "outputs": [
    {
     "data": {
      "image/png": "[encoded data removed]",
      "text/plain": [
       "<Figure size 432x288 with 1 Axes>"
      ]
     },
     "metadata": {
      "needs_background": "light"
     },
     "output_type": "display_data"
    }
   ],
   "source": [
    "skplt.metrics.plot_cumulative_gain(y_test, logistic.predict_proba(X_test))\n",
    "plt.show()"
   ]
  },
  {
   "cell_type": "markdown",
   "metadata": {},
   "source": [
    "#### 8(6). Use sm.logit with \"intercept=1\" to check coefficients"
   ]
  },
  {
   "cell_type": "code",
   "execution_count": 41,
   "metadata": {},
   "outputs": [],
   "source": [
    "X['Intercept'] = 1  # added prior to split in step 8(2)"
   ]
  },
  {
   "cell_type": "code",
   "execution_count": 42,
   "metadata": {},
   "outputs": [],
   "source": [
    "# Option 1: use full dataset, better to use split data! - do not do for HW5\n",
    "# logistic_ml   = sm.Logit(y, X)"
   ]
  },
  {
   "cell_type": "code",
   "execution_count": 43,
   "metadata": {},
   "outputs": [],
   "source": [
    "# Option 2: training dataset, BETTER! - do for HW5 per email on 031621\n",
    "logistic_ml   = sm.Logit(y_train, X_train)"
   ]
  },
  {
   "cell_type": "code",
   "execution_count": 44,
   "metadata": {},
   "outputs": [
    {
     "name": "stdout",
     "output_type": "stream",
     "text": [
      "Optimization terminated successfully.\n",
      "         Current function value: 0.462557\n",
      "         Iterations 7\n"
     ]
    },
    {
     "data": {
      "text/html": [
       "<table class=\"simpletable\">\n",
       "<tr>\n",
       "        <td>Model:</td>              <td>Logit</td>      <td>Pseudo R-squared:</td>  <td>-0.463</td>  \n",
       "</tr>\n",
       "<tr>\n",
       "  <td>Dependent Variable:</td>         <td>y</td>              <td>AIC:</td>        <td>3714.4583</td>\n",
       "</tr>\n",
       "<tr>\n",
       "         <td>Date:</td>        <td>2021-05-11 17:32</td>       <td>BIC:</td>        <td>3758.5166</td>\n",
       "</tr>\n",
       "<tr>\n",
       "   <td>No. Observations:</td>        <td>4000</td>        <td>Log-Likelihood:</td>   <td>-1850.2</td> \n",
       "</tr>\n",
       "<tr>\n",
       "       <td>Df Model:</td>              <td>6</td>            <td>LL-Null:</td>       <td>-1264.8</td> \n",
       "</tr>\n",
       "<tr>\n",
       "     <td>Df Residuals:</td>          <td>3993</td>         <td>LLR p-value:</td>     <td>1.0000</td>  \n",
       "</tr>\n",
       "<tr>\n",
       "      <td>Converged:</td>           <td>1.0000</td>           <td>Scale:</td>        <td>1.0000</td>  \n",
       "</tr>\n",
       "<tr>\n",
       "    <td>No. Iterations:</td>        <td>7.0000</td>              <td></td>              <td></td>     \n",
       "</tr>\n",
       "</table>\n",
       "<table class=\"simpletable\">\n",
       "<tr>\n",
       "          <td></td>           <th>Coef.</th>  <th>Std.Err.</th>     <th>z</th>     <th>P>|z|</th> <th>[0.025</th>  <th>0.975]</th> \n",
       "</tr>\n",
       "<tr>\n",
       "  <th>Income</th>            <td>0.8205</td>   <td>0.0561</td>   <td>14.6339</td> <td>0.0000</td> <td>0.7106</td>  <td>0.9304</td> \n",
       "</tr>\n",
       "<tr>\n",
       "  <th>Family</th>            <td>0.2413</td>   <td>0.0413</td>   <td>5.8483</td>  <td>0.0000</td> <td>0.1605</td>  <td>0.3222</td> \n",
       "</tr>\n",
       "<tr>\n",
       "  <th>CCAvg</th>             <td>0.1055</td>   <td>0.0525</td>   <td>2.0087</td>  <td>0.0446</td> <td>0.0026</td>  <td>0.2084</td> \n",
       "</tr>\n",
       "<tr>\n",
       "  <th>Education</th>         <td>0.3738</td>   <td>0.0421</td>   <td>8.8787</td>  <td>0.0000</td> <td>0.2913</td>  <td>0.4564</td> \n",
       "</tr>\n",
       "<tr>\n",
       "  <th>SecuritiesAccount</th> <td>-2.9679</td>  <td>0.2180</td>  <td>-13.6144</td> <td>0.0000</td> <td>-3.3952</td> <td>-2.5406</td>\n",
       "</tr>\n",
       "<tr>\n",
       "  <th>CDAccount</th>         <td>3.1761</td>   <td>0.2419</td>   <td>13.1288</td> <td>0.0000</td> <td>2.7019</td>  <td>3.6502</td> \n",
       "</tr>\n",
       "<tr>\n",
       "  <th>CreditCard</th>        <td>-3.2989</td>  <td>0.1567</td>  <td>-21.0529</td> <td>0.0000</td> <td>-3.6060</td> <td>-2.9917</td>\n",
       "</tr>\n",
       "</table>"
      ],
      "text/plain": [
       "<class 'statsmodels.iolib.summary2.Summary'>\n",
       "\"\"\"\n",
       "                          Results: Logit\n",
       "==================================================================\n",
       "Model:                Logit            Pseudo R-squared: -0.463   \n",
       "Dependent Variable:   y                AIC:              3714.4583\n",
       "Date:                 2021-05-11 17:32 BIC:              3758.5166\n",
       "No. Observations:     4000             Log-Likelihood:   -1850.2  \n",
       "Df Model:             6                LL-Null:          -1264.8  \n",
       "Df Residuals:         3993             LLR p-value:      1.0000   \n",
       "Converged:            1.0000           Scale:            1.0000   \n",
       "No. Iterations:       7.0000                                      \n",
       "------------------------------------------------------------------\n",
       "                   Coef.  Std.Err.    z     P>|z|   [0.025  0.975]\n",
       "------------------------------------------------------------------\n",
       "Income             0.8205   0.0561  14.6339 0.0000  0.7106  0.9304\n",
       "Family             0.2413   0.0413   5.8483 0.0000  0.1605  0.3222\n",
       "CCAvg              0.1055   0.0525   2.0087 0.0446  0.0026  0.2084\n",
       "Education          0.3738   0.0421   8.8787 0.0000  0.2913  0.4564\n",
       "SecuritiesAccount -2.9679   0.2180 -13.6144 0.0000 -3.3952 -2.5406\n",
       "CDAccount          3.1761   0.2419  13.1288 0.0000  2.7019  3.6502\n",
       "CreditCard        -3.2989   0.1567 -21.0529 0.0000 -3.6060 -2.9917\n",
       "==================================================================\n",
       "\n",
       "\"\"\""
      ]
     },
     "execution_count": 44,
     "metadata": {},
     "output_type": "execute_result"
    }
   ],
   "source": [
    "logistic_coef = logistic_ml.fit()\n",
    "logistic_coef.summary2()"
   ]
  },
  {
   "cell_type": "markdown",
   "metadata": {},
   "source": [
    "#### 8(7). Calculate Odds Ratio (OR) for each input feature for unit change=1"
   ]
  },
  {
   "cell_type": "code",
   "execution_count": 45,
   "metadata": {},
   "outputs": [
    {
     "data": {
      "text/plain": [
       "Income                2.271553\n",
       "Family                1.272966\n",
       "CCAvg                 1.111233\n",
       "Education             1.453304\n",
       "SecuritiesAccount     0.051411\n",
       "CDAccount            23.952411\n",
       "CreditCard            0.036925\n",
       "dtype: float64"
      ]
     },
     "execution_count": 45,
     "metadata": {},
     "output_type": "execute_result"
    }
   ],
   "source": [
    "np.exp(logistic_coef.params)"
   ]
  },
  {
   "cell_type": "markdown",
   "metadata": {},
   "source": [
    "Feature selection to remove 'irrelvant features' slightly affects accuracy and coefficients; however, with a large set of data, feature selection could save significant processing time and energy in exchange for a slight accuracy hit."
   ]
  },
  {
   "cell_type": "code",
   "execution_count": null,
   "metadata": {},
   "outputs": [],
   "source": []
  }
 ],
 "metadata": {
  "kernelspec": {
   "display_name": "Python 3",
   "language": "python",
   "name": "python3"
  },
  "language_info": {
   "codemirror_mode": {
    "name": "ipython",
    "version": 3
   },
   "file_extension": ".py",
   "mimetype": "text/x-python",
   "name": "python",
   "nbconvert_exporter": "python",
   "pygments_lexer": "ipython3",
   "version": "3.9.4"
  }
 },
 "nbformat": 4,
 "nbformat_minor": 4
}
