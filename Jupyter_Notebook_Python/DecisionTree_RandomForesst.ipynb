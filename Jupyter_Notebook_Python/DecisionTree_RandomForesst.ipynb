{
 "cells": [
  {
   "cell_type": "markdown",
   "metadata": {},
   "source": [
    "# Decision Tree Classification and Random Forest\n",
    "#### Rick Gosalvez, 2021 Data Mining"
   ]
  },
  {
   "cell_type": "markdown",
   "metadata": {},
   "source": [
    "# Theory"
   ]
  },
  {
   "cell_type": "markdown",
   "metadata": {},
   "source": [
    "## 1. Decision Tree Diagram"
   ]
  },
  {
   "cell_type": "markdown",
   "metadata": {},
   "source": [
    "### 1a. Tree diagram - rules, # data, # of classes"
   ]
  },
  {
   "cell_type": "markdown",
   "metadata": {},
   "source": [
    "<b>NOTE:</b> Diagram includes decisions for adding 1 rule (1b) for a total of 7 rules and deleting a branch (1c)"
   ]
  },
  {
   "cell_type": "markdown",
   "metadata": {},
   "source": [
    "![Decision Tree Diagram](img/HW4_Q1a.png)"
   ]
  },
  {
   "cell_type": "markdown",
   "metadata": {},
   "source": [
    "### 1b. Best place to add one line (decision)"
   ]
  },
  {
   "cell_type": "markdown",
   "metadata": {},
   "source": [
    "Upon visual inspection, the <b>best place to add a line would be at x <= 3.5</b>, which would result in 2 'pure' splits."
   ]
  },
  {
   "cell_type": "markdown",
   "metadata": {},
   "source": [
    "![Decision Tree Diagram](img/HW4_Q1b.png)"
   ]
  },
  {
   "cell_type": "markdown",
   "metadata": {},
   "source": [
    "### 1c. Best place to delete one line (decision)"
   ]
  },
  {
   "cell_type": "markdown",
   "metadata": {},
   "source": [
    "Based on visual inspection, I'd <b>delete Y<=4</b> becauses it appears 'overfit.' Other rules appear to split data as to help classify objects. This aligns with a Bottoms-Up pruning approach. Alternatively, if we simply look at Information Gain (IG) at each node, we'd question if stopping early at rule Y<=6 would be a good rule to prune; however, looking further down the diagram we would see that it would result in a 'horizon effect' as we would loose a lot of IG for the entire tree verus pruning Y<=4 which is a much smaller IG for the tree and visually looks like overfitting. "
   ]
  },
  {
   "cell_type": "markdown",
   "metadata": {},
   "source": [
    "![Decision Tree Diagram](img/HW4_Q1c.png)"
   ]
  },
  {
   "cell_type": "markdown",
   "metadata": {},
   "source": [
    "Interestingly, based on information gain and visual inspection, <b>another good option</b> would be to re-evaluate the root rule from Y<=3.5 to Y<=4 to improve splits and reduce future overfitting. For example, changing the root rule to y<=4 would improve that outcome and reduce the need to split it later in the tree."
   ]
  },
  {
   "cell_type": "markdown",
   "metadata": {},
   "source": [
    "![Decision Tree Diagram](img/HW4_Q1c2.png)"
   ]
  },
  {
   "cell_type": "markdown",
   "metadata": {},
   "source": [
    "### Information Gain Calculations (gini | entropy): Checking Long-hand"
   ]
  },
  {
   "cell_type": "markdown",
   "metadata": {},
   "source": [
    "$$gini\\;\\;\\;\\;\\;\\; G(A) = 1- \\sum\\limits_{k=1}^n p_{k}^2 \\;\\;\\;\\;\\;\\; (low = good, high = bad)$$  "
   ]
  },
  {
   "cell_type": "code",
   "execution_count": 1,
   "metadata": {},
   "outputs": [],
   "source": [
    "def giniIndex(category, a, b, c, d, e,f):\n",
    "    GP = 1 - ((a/(a+b))**2) - ((b/(a+b))**2)\n",
    "    G1 = 1 - ((c/(c+d))**2) - ((d/(c+d))**2)\n",
    "    G2 = 1 - ((e/(e+f))**2) - ((f/(e+f))**2)\n",
    "    GC = (((c+d)/(a+b))*G1)+(((e+f)/(a+b))*G2)\n",
    "    IG = GP - GC\n",
    "    \n",
    "    print(category)\n",
    "    print(f'Total num. of samples: {a+b:.0f}')\n",
    "    print(f'Root:                  {GP:.3f}')\n",
    "    print(f'G1:                    {G1:.3f}')\n",
    "    print(f'G2:                    {G2:.3f}')\n",
    "    print(f'GC:                    {GC:.3f}')\n",
    "    print(f'IG:                    {IG:.3f}')\n",
    "    print()\n",
    "    \n",
    "    return float(IG)"
   ]
  },
  {
   "cell_type": "raw",
   "metadata": {},
   "source": [
    "# Use when comparing categories; not used b/c decision tree result already complete\n",
    "def bestCategory(n1, n2):\n",
    "    \"\"\" evaluate gini Index for best category\n",
    "        lower is better. 0 is pure. \"\"\"\n",
    "    if n1 < n2:\n",
    "        print(f'{n1[0]} @ {n1[1]:.3f} category is better!')\n",
    "    elif n1 > n2:\n",
    "        print(f'{n2[0]} @ {n2[1]:.3f} category is better!') \n",
    "    else:\n",
    "        print(f'both are equal')"
   ]
  },
  {
   "cell_type": "raw",
   "metadata": {},
   "source": [
    "# test based on class example\n",
    "n1 = giniIndex('Gender',5,5,5,1,0,4)  # class example slide 12\n",
    "n2 = giniIndex('Marital Status',5,5,2,3,3,2)  # class example slide 13\n",
    "bestCategory(n1, n2)"
   ]
  },
  {
   "cell_type": "markdown",
   "metadata": {},
   "source": [
    "### gini Index"
   ]
  },
  {
   "cell_type": "code",
   "execution_count": 2,
   "metadata": {},
   "outputs": [
    {
     "name": "stdout",
     "output_type": "stream",
     "text": [
      "Y\n",
      "Total num. of samples: 42\n",
      "Root:                  0.499\n",
      "G1:                    0.375\n",
      "G2:                    0.464\n",
      "GC:                    0.439\n",
      "IG:                    0.060\n",
      "\n",
      "X\n",
      "Total num. of samples: 12\n",
      "Root:                  0.375\n",
      "G1:                    0.000\n",
      "G2:                    0.180\n",
      "GC:                    0.150\n",
      "IG:                    0.225\n",
      "\n",
      "X\n",
      "Total num. of samples: 30\n",
      "Root:                  0.464\n",
      "G1:                    0.492\n",
      "G2:                    0.245\n",
      "GC:                    0.377\n",
      "IG:                    0.088\n",
      "\n",
      "Y\n",
      "Total num. of samples: 16\n",
      "Root:                  0.492\n",
      "G1:                    0.480\n",
      "G2:                    0.463\n",
      "GC:                    0.468\n",
      "IG:                    0.024\n",
      "\n",
      "Y\n",
      "Total num. of samples: 14\n",
      "Root:                  0.245\n",
      "G1:                    0.000\n",
      "G2:                    0.142\n",
      "GC:                    0.132\n",
      "IG:                    0.113\n",
      "\n",
      "X\n",
      "Total num. of samples: 11\n",
      "Root:                  0.463\n",
      "G1:                    0.000\n",
      "G2:                    0.219\n",
      "GC:                    0.159\n",
      "IG:                    0.304\n",
      "\n",
      "X\n",
      "Total num. of samples: 5\n",
      "Root:                  0.480\n",
      "G1:                    0.000\n",
      "G2:                    0.000\n",
      "GC:                    0.000\n",
      "IG:                    0.480\n",
      "\n",
      "Lowest Information Gain: 0.024\n",
      "Highest Information Gain:0.480\n"
     ]
    }
   ],
   "source": [
    "g1 = giniIndex('Y',20,22,9,3,11,19)   # level 1 (root node)\n",
    "g2 = giniIndex('X',9,3,0,2,9,1)       # level 2 \n",
    "g3 = giniIndex('X',11,19,9,7,2,12)    # level 2 \n",
    "g4 = giniIndex('Y',9,7,2,3,7,4)       # level 3 > recommended for 1c b/c lowest IG\n",
    "g5 = giniIndex('Y',2,12,1,0,1,12)     # level 3 \n",
    "g6 = giniIndex('X',7,4,0,3,7,1)       # level 4\n",
    "g7 = giniIndex('X',2,3,0,3,2,0)       # level 4 \n",
    "\n",
    "gini_list = [g1,g2,g3,g4,g5,g6,g7]\n",
    "\n",
    "print(f'Lowest Information Gain: {min(gini_list):.3f}')\n",
    "print(f'Highest Information Gain:{max(gini_list):.3f}')"
   ]
  },
  {
   "cell_type": "markdown",
   "metadata": {},
   "source": [
    "### Entropy"
   ]
  },
  {
   "cell_type": "markdown",
   "metadata": {},
   "source": [
    "$$entropy\\;\\;\\;\\;\\;\\; E(A) = - \\sum\\limits_{k=1}^n p_{k}log_2(p_k) $$  \n",
    "$$Information Gain\\;\\;\\;\\;\\;\\; IG = E(Before)\\:-\\:E(After) \\;\\;\\;\\;\\;\\; (low = bad, high = good)$$ "
   ]
  },
  {
   "cell_type": "code",
   "execution_count": 3,
   "metadata": {},
   "outputs": [],
   "source": [
    "import math\n",
    "\n",
    "def entropy(category, a, b, c, d, e,f):\n",
    "    if a == 0:\n",
    "        GP = -0 - (b/(a+b)) * math.log(b/(a+b),2)\n",
    "    elif b == 0:\n",
    "        GP = -(a/(a+b)) * math.log(a/(a+b),2) - 0\n",
    "    else:\n",
    "        GP = -(a/(a+b)) * math.log(a/(a+b),2) - (b/(a+b)) * math.log(b/(a+b),2)\n",
    "    if c == 0:\n",
    "        G1 = -0 - (d/(c+d)) * math.log(d/(c+d),2)\n",
    "    elif d == 0:\n",
    "        G1 = -(c/(c+d)) * math.log(c/(c+d),2) - 0\n",
    "    else:\n",
    "        G1 = -(c/(c+d)) * math.log(c/(c+d),2) - (d/(c+d)) * math.log(d/(c+d),2)\n",
    "    if e == 0:\n",
    "        G2 = -0 - (f/(e+f)) * math.log(f/(e+f),2)\n",
    "    elif f == 0:\n",
    "        G2 = -(e/(e+f)) * math.log(e/(e+f),2) - 0\n",
    "    else:\n",
    "        G2 = -(e/(e+f)) * math.log(e/(e+f),2) - (f/(e+f)) * math.log(f/(e+f),2)\n",
    "    \n",
    "    GC = (((c+d)/(a+b))*G1)+(((e+f)/(a+b))*G2)\n",
    "    IG = GP - GC\n",
    "    \n",
    "    print(category)\n",
    "    print(f'Total num. of samples: {a+b:.0f}')\n",
    "    print(f'Root:                  {GP:.3f}')\n",
    "    print(f'G1:                    {G1:.3f}')\n",
    "    print(f'G2:                    {G2:.3f}')\n",
    "    print(f'GC:                    {GC:.3f}')\n",
    "    print(f'IG:                    {IG:.3f}')\n",
    "    print()\n",
    "    \n",
    "    return float(IG)"
   ]
  },
  {
   "cell_type": "raw",
   "metadata": {},
   "source": [
    "# test based on class example\n",
    "entropy('Gender',5,5,5,1,0,4)"
   ]
  },
  {
   "cell_type": "code",
   "execution_count": 4,
   "metadata": {},
   "outputs": [
    {
     "name": "stdout",
     "output_type": "stream",
     "text": [
      "Y\n",
      "Total num. of samples: 42\n",
      "Root:                  0.998\n",
      "G1:                    0.811\n",
      "G2:                    0.948\n",
      "GC:                    0.909\n",
      "IG:                    0.089\n",
      "\n",
      "X\n",
      "Total num. of samples: 12\n",
      "Root:                  0.811\n",
      "G1:                    0.000\n",
      "G2:                    0.469\n",
      "GC:                    0.391\n",
      "IG:                    0.420\n",
      "\n",
      "X\n",
      "Total num. of samples: 30\n",
      "Root:                  0.948\n",
      "G1:                    0.989\n",
      "G2:                    0.592\n",
      "GC:                    0.803\n",
      "IG:                    0.145\n",
      "\n",
      "Y\n",
      "Total num. of samples: 16\n",
      "Root:                  0.989\n",
      "G1:                    0.971\n",
      "G2:                    0.946\n",
      "GC:                    0.954\n",
      "IG:                    0.035\n",
      "\n",
      "Y\n",
      "Total num. of samples: 14\n",
      "Root:                  0.592\n",
      "G1:                    -0.000\n",
      "G2:                    0.391\n",
      "GC:                    0.363\n",
      "IG:                    0.228\n",
      "\n",
      "X\n",
      "Total num. of samples: 11\n",
      "Root:                  0.946\n",
      "G1:                    0.000\n",
      "G2:                    0.544\n",
      "GC:                    0.395\n",
      "IG:                    0.550\n",
      "\n",
      "X\n",
      "Total num. of samples: 5\n",
      "Root:                  0.971\n",
      "G1:                    0.000\n",
      "G2:                    -0.000\n",
      "GC:                    0.000\n",
      "IG:                    0.971\n",
      "\n",
      "Lowest Information Gain: 0.035\n",
      "Highest Information Gain:0.971\n"
     ]
    }
   ],
   "source": [
    "e1 = entropy('Y',20,22,9,3,11,19)   # level 1 (root node)\n",
    "e2 = entropy('X',9,3,0,2,9,1)       # level 2 \n",
    "e3 = entropy('X',11,19,9,7,2,12)    # level 2 \n",
    "e4 = entropy('Y',9,7,2,3,7,4)       # level 3 > recommended for 1c b/c lowest IG\n",
    "e5 = entropy('Y',2,12,1,0,1,12)     # level 3 \n",
    "e6 = entropy('X',7,4,0,3,7,1)       # level 4\n",
    "e7 = entropy('X',2,3,0,3,2,0)       # level 4 \n",
    "\n",
    "entropy_list = [e1,e2,e3,e4,e5,e6,e7]\n",
    "\n",
    "print(f'Lowest Information Gain: {min(entropy_list):.3f}')\n",
    "print(f'Highest Information Gain:{max(entropy_list):.3f}')"
   ]
  },
  {
   "cell_type": "markdown",
   "metadata": {},
   "source": [
    "# Practice"
   ]
  },
  {
   "cell_type": "code",
   "execution_count": 5,
   "metadata": {},
   "outputs": [],
   "source": [
    "import pandas as pd\n",
    "import numpy as np\n",
    "import matplotlib.pyplot as plt\n",
    "\n",
    "import scikitplot as skplt\n",
    "\n",
    "from sklearn.preprocessing import StandardScaler\n",
    "from sklearn.preprocessing import LabelEncoder\n",
    "\n",
    "from sklearn.model_selection import train_test_split\n",
    "\n",
    "from sklearn.tree import DecisionTreeClassifier\n",
    "from sklearn.ensemble import RandomForestClassifier\n",
    "# from sklearn.ensemble import AdaBoostClassifier     # not example discussed in class\n",
    "\n",
    "from sklearn.metrics import confusion_matrix, classification_report, plot_confusion_matrix\n",
    "from sklearn.metrics import accuracy_score, precision_score, recall_score, f1_score, make_scorer\n",
    "from sklearn.metrics import roc_curve\n",
    "from sklearn.metrics import auc                       # Area under curve for final step in random tree chart"
   ]
  },
  {
   "cell_type": "markdown",
   "metadata": {},
   "source": [
    "### 1. Load data"
   ]
  },
  {
   "cell_type": "code",
   "execution_count": 6,
   "metadata": {},
   "outputs": [
    {
     "data": {
      "text/html": [
       "<div>\n",
       "<style scoped>\n",
       "    .dataframe tbody tr th:only-of-type {\n",
       "        vertical-align: middle;\n",
       "    }\n",
       "\n",
       "    .dataframe tbody tr th {\n",
       "        vertical-align: top;\n",
       "    }\n",
       "\n",
       "    .dataframe thead th {\n",
       "        text-align: right;\n",
       "    }\n",
       "</style>\n",
       "<table border=\"1\" class=\"dataframe\">\n",
       "  <thead>\n",
       "    <tr style=\"text-align: right;\">\n",
       "      <th></th>\n",
       "      <th>Unnamed: 0</th>\n",
       "      <th>CRS_DEP_TIME</th>\n",
       "      <th>CARRIER</th>\n",
       "      <th>DEP_TIME</th>\n",
       "      <th>DEST</th>\n",
       "      <th>DISTANCE</th>\n",
       "      <th>FL_DATE</th>\n",
       "      <th>FL_NUM</th>\n",
       "      <th>ORIGIN</th>\n",
       "      <th>Weather</th>\n",
       "      <th>DAY_WEEK</th>\n",
       "      <th>DAY_OF_MONTH</th>\n",
       "      <th>TAIL_NUM</th>\n",
       "      <th>FlightStatus</th>\n",
       "    </tr>\n",
       "  </thead>\n",
       "  <tbody>\n",
       "    <tr>\n",
       "      <th>0</th>\n",
       "      <td>0</td>\n",
       "      <td>15.0</td>\n",
       "      <td>OH</td>\n",
       "      <td>1455</td>\n",
       "      <td>JFK</td>\n",
       "      <td>184</td>\n",
       "      <td>01/01/2004</td>\n",
       "      <td>5935</td>\n",
       "      <td>BWI</td>\n",
       "      <td>0</td>\n",
       "      <td>THU</td>\n",
       "      <td>1</td>\n",
       "      <td>N940CA</td>\n",
       "      <td>0</td>\n",
       "    </tr>\n",
       "    <tr>\n",
       "      <th>1</th>\n",
       "      <td>1</td>\n",
       "      <td>16.0</td>\n",
       "      <td>DH</td>\n",
       "      <td>1640</td>\n",
       "      <td>JFK</td>\n",
       "      <td>213</td>\n",
       "      <td>01/01/2004</td>\n",
       "      <td>6155</td>\n",
       "      <td>DCA</td>\n",
       "      <td>0</td>\n",
       "      <td>THU</td>\n",
       "      <td>1</td>\n",
       "      <td>N405FJ</td>\n",
       "      <td>0</td>\n",
       "    </tr>\n",
       "    <tr>\n",
       "      <th>2</th>\n",
       "      <td>2</td>\n",
       "      <td>12.0</td>\n",
       "      <td>DH</td>\n",
       "      <td>1245</td>\n",
       "      <td>LGA</td>\n",
       "      <td>229</td>\n",
       "      <td>01/01/2004</td>\n",
       "      <td>7208</td>\n",
       "      <td>IAD</td>\n",
       "      <td>0</td>\n",
       "      <td>THU</td>\n",
       "      <td>1</td>\n",
       "      <td>N695BR</td>\n",
       "      <td>0</td>\n",
       "    </tr>\n",
       "    <tr>\n",
       "      <th>3</th>\n",
       "      <td>3</td>\n",
       "      <td>17.0</td>\n",
       "      <td>DH</td>\n",
       "      <td>1709</td>\n",
       "      <td>LGA</td>\n",
       "      <td>229</td>\n",
       "      <td>01/01/2004</td>\n",
       "      <td>7215</td>\n",
       "      <td>IAD</td>\n",
       "      <td>0</td>\n",
       "      <td>THU</td>\n",
       "      <td>1</td>\n",
       "      <td>N662BR</td>\n",
       "      <td>0</td>\n",
       "    </tr>\n",
       "    <tr>\n",
       "      <th>4</th>\n",
       "      <td>4</td>\n",
       "      <td>10.0</td>\n",
       "      <td>DH</td>\n",
       "      <td>1035</td>\n",
       "      <td>LGA</td>\n",
       "      <td>229</td>\n",
       "      <td>01/01/2004</td>\n",
       "      <td>7792</td>\n",
       "      <td>IAD</td>\n",
       "      <td>0</td>\n",
       "      <td>THU</td>\n",
       "      <td>1</td>\n",
       "      <td>N698BR</td>\n",
       "      <td>0</td>\n",
       "    </tr>\n",
       "  </tbody>\n",
       "</table>\n",
       "</div>"
      ],
      "text/plain": [
       "   Unnamed: 0  CRS_DEP_TIME CARRIER  DEP_TIME DEST  DISTANCE     FL_DATE  \\\n",
       "0           0          15.0      OH      1455  JFK       184  01/01/2004   \n",
       "1           1          16.0      DH      1640  JFK       213  01/01/2004   \n",
       "2           2          12.0      DH      1245  LGA       229  01/01/2004   \n",
       "3           3          17.0      DH      1709  LGA       229  01/01/2004   \n",
       "4           4          10.0      DH      1035  LGA       229  01/01/2004   \n",
       "\n",
       "   FL_NUM ORIGIN  Weather DAY_WEEK  DAY_OF_MONTH TAIL_NUM  FlightStatus  \n",
       "0    5935    BWI        0      THU             1   N940CA             0  \n",
       "1    6155    DCA        0      THU             1   N405FJ             0  \n",
       "2    7208    IAD        0      THU             1   N695BR             0  \n",
       "3    7215    IAD        0      THU             1   N662BR             0  \n",
       "4    7792    IAD        0      THU             1   N698BR             0  "
      ]
     },
     "execution_count": 6,
     "metadata": {},
     "output_type": "execute_result"
    }
   ],
   "source": [
    "df = pd.read_csv('FlightDelaysR.csv')\n",
    "df.head()"
   ]
  },
  {
   "cell_type": "markdown",
   "metadata": {},
   "source": [
    "### 2. Split input and output"
   ]
  },
  {
   "cell_type": "code",
   "execution_count": 7,
   "metadata": {},
   "outputs": [
    {
     "data": {
      "text/plain": [
       "Index(['DAY_WEEK', 'CRS_DEP_TIME', 'ORIGIN', 'DEST', 'Weather'], dtype='object')"
      ]
     },
     "execution_count": 7,
     "metadata": {},
     "output_type": "execute_result"
    }
   ],
   "source": [
    "# inputs (5 features)\n",
    "X=df.iloc[:,[10,1,8,4,9]]\n",
    "X.keys()"
   ]
  },
  {
   "cell_type": "code",
   "execution_count": 8,
   "metadata": {},
   "outputs": [],
   "source": [
    "# output/outcome\n",
    "y=df['FlightStatus']"
   ]
  },
  {
   "cell_type": "code",
   "execution_count": 9,
   "metadata": {},
   "outputs": [
    {
     "data": {
      "text/html": [
       "<div>\n",
       "<style scoped>\n",
       "    .dataframe tbody tr th:only-of-type {\n",
       "        vertical-align: middle;\n",
       "    }\n",
       "\n",
       "    .dataframe tbody tr th {\n",
       "        vertical-align: top;\n",
       "    }\n",
       "\n",
       "    .dataframe thead th {\n",
       "        text-align: right;\n",
       "    }\n",
       "</style>\n",
       "<table border=\"1\" class=\"dataframe\">\n",
       "  <thead>\n",
       "    <tr style=\"text-align: right;\">\n",
       "      <th></th>\n",
       "      <th>DAY_WEEK</th>\n",
       "      <th>CRS_DEP_TIME</th>\n",
       "      <th>ORIGIN</th>\n",
       "      <th>DEST</th>\n",
       "      <th>Weather</th>\n",
       "    </tr>\n",
       "  </thead>\n",
       "  <tbody>\n",
       "    <tr>\n",
       "      <th>0</th>\n",
       "      <td>THU</td>\n",
       "      <td>15.0</td>\n",
       "      <td>BWI</td>\n",
       "      <td>JFK</td>\n",
       "      <td>0</td>\n",
       "    </tr>\n",
       "    <tr>\n",
       "      <th>1</th>\n",
       "      <td>THU</td>\n",
       "      <td>16.0</td>\n",
       "      <td>DCA</td>\n",
       "      <td>JFK</td>\n",
       "      <td>0</td>\n",
       "    </tr>\n",
       "    <tr>\n",
       "      <th>2</th>\n",
       "      <td>THU</td>\n",
       "      <td>12.0</td>\n",
       "      <td>IAD</td>\n",
       "      <td>LGA</td>\n",
       "      <td>0</td>\n",
       "    </tr>\n",
       "    <tr>\n",
       "      <th>3</th>\n",
       "      <td>THU</td>\n",
       "      <td>17.0</td>\n",
       "      <td>IAD</td>\n",
       "      <td>LGA</td>\n",
       "      <td>0</td>\n",
       "    </tr>\n",
       "    <tr>\n",
       "      <th>4</th>\n",
       "      <td>THU</td>\n",
       "      <td>10.0</td>\n",
       "      <td>IAD</td>\n",
       "      <td>LGA</td>\n",
       "      <td>0</td>\n",
       "    </tr>\n",
       "  </tbody>\n",
       "</table>\n",
       "</div>"
      ],
      "text/plain": [
       "  DAY_WEEK  CRS_DEP_TIME ORIGIN DEST  Weather\n",
       "0      THU          15.0    BWI  JFK        0\n",
       "1      THU          16.0    DCA  JFK        0\n",
       "2      THU          12.0    IAD  LGA        0\n",
       "3      THU          17.0    IAD  LGA        0\n",
       "4      THU          10.0    IAD  LGA        0"
      ]
     },
     "execution_count": 9,
     "metadata": {},
     "output_type": "execute_result"
    }
   ],
   "source": [
    "X.head()"
   ]
  },
  {
   "cell_type": "code",
   "execution_count": 10,
   "metadata": {},
   "outputs": [],
   "source": [
    "# X = round(X)\n",
    "# X.describe()"
   ]
  },
  {
   "cell_type": "markdown",
   "metadata": {},
   "source": [
    "### 3. Make dummy features"
   ]
  },
  {
   "cell_type": "code",
   "execution_count": 11,
   "metadata": {},
   "outputs": [
    {
     "data": {
      "text/html": [
       "<div>\n",
       "<style scoped>\n",
       "    .dataframe tbody tr th:only-of-type {\n",
       "        vertical-align: middle;\n",
       "    }\n",
       "\n",
       "    .dataframe tbody tr th {\n",
       "        vertical-align: top;\n",
       "    }\n",
       "\n",
       "    .dataframe thead th {\n",
       "        text-align: right;\n",
       "    }\n",
       "</style>\n",
       "<table border=\"1\" class=\"dataframe\">\n",
       "  <thead>\n",
       "    <tr style=\"text-align: right;\">\n",
       "      <th></th>\n",
       "      <th>DAY_WEEK_MON</th>\n",
       "      <th>DAY_WEEK_SAT</th>\n",
       "      <th>DAY_WEEK_SUN</th>\n",
       "      <th>DAY_WEEK_THU</th>\n",
       "      <th>DAY_WEEK_TUE</th>\n",
       "      <th>DAY_WEEK_WEN</th>\n",
       "      <th>CRS_DEP_TIME_7.0</th>\n",
       "      <th>CRS_DEP_TIME_8.0</th>\n",
       "      <th>CRS_DEP_TIME_9.0</th>\n",
       "      <th>CRS_DEP_TIME_10.0</th>\n",
       "      <th>...</th>\n",
       "      <th>CRS_DEP_TIME_17.0</th>\n",
       "      <th>CRS_DEP_TIME_18.0</th>\n",
       "      <th>CRS_DEP_TIME_19.0</th>\n",
       "      <th>CRS_DEP_TIME_20.0</th>\n",
       "      <th>CRS_DEP_TIME_21.0</th>\n",
       "      <th>ORIGIN_DCA</th>\n",
       "      <th>ORIGIN_IAD</th>\n",
       "      <th>DEST_JFK</th>\n",
       "      <th>DEST_LGA</th>\n",
       "      <th>Weather_1</th>\n",
       "    </tr>\n",
       "  </thead>\n",
       "  <tbody>\n",
       "    <tr>\n",
       "      <th>0</th>\n",
       "      <td>0</td>\n",
       "      <td>0</td>\n",
       "      <td>0</td>\n",
       "      <td>1</td>\n",
       "      <td>0</td>\n",
       "      <td>0</td>\n",
       "      <td>0</td>\n",
       "      <td>0</td>\n",
       "      <td>0</td>\n",
       "      <td>0</td>\n",
       "      <td>...</td>\n",
       "      <td>0</td>\n",
       "      <td>0</td>\n",
       "      <td>0</td>\n",
       "      <td>0</td>\n",
       "      <td>0</td>\n",
       "      <td>0</td>\n",
       "      <td>0</td>\n",
       "      <td>1</td>\n",
       "      <td>0</td>\n",
       "      <td>0</td>\n",
       "    </tr>\n",
       "    <tr>\n",
       "      <th>1</th>\n",
       "      <td>0</td>\n",
       "      <td>0</td>\n",
       "      <td>0</td>\n",
       "      <td>1</td>\n",
       "      <td>0</td>\n",
       "      <td>0</td>\n",
       "      <td>0</td>\n",
       "      <td>0</td>\n",
       "      <td>0</td>\n",
       "      <td>0</td>\n",
       "      <td>...</td>\n",
       "      <td>0</td>\n",
       "      <td>0</td>\n",
       "      <td>0</td>\n",
       "      <td>0</td>\n",
       "      <td>0</td>\n",
       "      <td>1</td>\n",
       "      <td>0</td>\n",
       "      <td>1</td>\n",
       "      <td>0</td>\n",
       "      <td>0</td>\n",
       "    </tr>\n",
       "    <tr>\n",
       "      <th>2</th>\n",
       "      <td>0</td>\n",
       "      <td>0</td>\n",
       "      <td>0</td>\n",
       "      <td>1</td>\n",
       "      <td>0</td>\n",
       "      <td>0</td>\n",
       "      <td>0</td>\n",
       "      <td>0</td>\n",
       "      <td>0</td>\n",
       "      <td>0</td>\n",
       "      <td>...</td>\n",
       "      <td>0</td>\n",
       "      <td>0</td>\n",
       "      <td>0</td>\n",
       "      <td>0</td>\n",
       "      <td>0</td>\n",
       "      <td>0</td>\n",
       "      <td>1</td>\n",
       "      <td>0</td>\n",
       "      <td>1</td>\n",
       "      <td>0</td>\n",
       "    </tr>\n",
       "    <tr>\n",
       "      <th>3</th>\n",
       "      <td>0</td>\n",
       "      <td>0</td>\n",
       "      <td>0</td>\n",
       "      <td>1</td>\n",
       "      <td>0</td>\n",
       "      <td>0</td>\n",
       "      <td>0</td>\n",
       "      <td>0</td>\n",
       "      <td>0</td>\n",
       "      <td>0</td>\n",
       "      <td>...</td>\n",
       "      <td>1</td>\n",
       "      <td>0</td>\n",
       "      <td>0</td>\n",
       "      <td>0</td>\n",
       "      <td>0</td>\n",
       "      <td>0</td>\n",
       "      <td>1</td>\n",
       "      <td>0</td>\n",
       "      <td>1</td>\n",
       "      <td>0</td>\n",
       "    </tr>\n",
       "    <tr>\n",
       "      <th>4</th>\n",
       "      <td>0</td>\n",
       "      <td>0</td>\n",
       "      <td>0</td>\n",
       "      <td>1</td>\n",
       "      <td>0</td>\n",
       "      <td>0</td>\n",
       "      <td>0</td>\n",
       "      <td>0</td>\n",
       "      <td>0</td>\n",
       "      <td>1</td>\n",
       "      <td>...</td>\n",
       "      <td>0</td>\n",
       "      <td>0</td>\n",
       "      <td>0</td>\n",
       "      <td>0</td>\n",
       "      <td>0</td>\n",
       "      <td>0</td>\n",
       "      <td>1</td>\n",
       "      <td>0</td>\n",
       "      <td>1</td>\n",
       "      <td>0</td>\n",
       "    </tr>\n",
       "  </tbody>\n",
       "</table>\n",
       "<p>5 rows × 26 columns</p>\n",
       "</div>"
      ],
      "text/plain": [
       "   DAY_WEEK_MON  DAY_WEEK_SAT  DAY_WEEK_SUN  DAY_WEEK_THU  DAY_WEEK_TUE  \\\n",
       "0             0             0             0             1             0   \n",
       "1             0             0             0             1             0   \n",
       "2             0             0             0             1             0   \n",
       "3             0             0             0             1             0   \n",
       "4             0             0             0             1             0   \n",
       "\n",
       "   DAY_WEEK_WEN  CRS_DEP_TIME_7.0  CRS_DEP_TIME_8.0  CRS_DEP_TIME_9.0  \\\n",
       "0             0                 0                 0                 0   \n",
       "1             0                 0                 0                 0   \n",
       "2             0                 0                 0                 0   \n",
       "3             0                 0                 0                 0   \n",
       "4             0                 0                 0                 0   \n",
       "\n",
       "   CRS_DEP_TIME_10.0  ...  CRS_DEP_TIME_17.0  CRS_DEP_TIME_18.0  \\\n",
       "0                  0  ...                  0                  0   \n",
       "1                  0  ...                  0                  0   \n",
       "2                  0  ...                  0                  0   \n",
       "3                  0  ...                  1                  0   \n",
       "4                  1  ...                  0                  0   \n",
       "\n",
       "   CRS_DEP_TIME_19.0  CRS_DEP_TIME_20.0  CRS_DEP_TIME_21.0  ORIGIN_DCA  \\\n",
       "0                  0                  0                  0           0   \n",
       "1                  0                  0                  0           1   \n",
       "2                  0                  0                  0           0   \n",
       "3                  0                  0                  0           0   \n",
       "4                  0                  0                  0           0   \n",
       "\n",
       "   ORIGIN_IAD  DEST_JFK  DEST_LGA  Weather_1  \n",
       "0           0         1         0          0  \n",
       "1           0         1         0          0  \n",
       "2           1         0         1          0  \n",
       "3           1         0         1          0  \n",
       "4           1         0         1          0  \n",
       "\n",
       "[5 rows x 26 columns]"
      ]
     },
     "execution_count": 11,
     "metadata": {},
     "output_type": "execute_result"
    }
   ],
   "source": [
    "# dummy indicator variables\n",
    "X = pd.get_dummies(X, columns=['DAY_WEEK','CRS_DEP_TIME','ORIGIN', 'DEST', 'Weather',], drop_first=True)\n",
    "X.head()"
   ]
  },
  {
   "cell_type": "markdown",
   "metadata": {},
   "source": [
    "### 4. Split into test and training"
   ]
  },
  {
   "cell_type": "code",
   "execution_count": 12,
   "metadata": {},
   "outputs": [],
   "source": [
    "# split data into training and test\n",
    "X_train, X_test, y_train, y_test = train_test_split(X, y, test_size=0.2, random_state=1, stratify=y)"
   ]
  },
  {
   "cell_type": "markdown",
   "metadata": {},
   "source": [
    "### 5. Decision Tree Classsifier: gini"
   ]
  },
  {
   "cell_type": "code",
   "execution_count": 13,
   "metadata": {},
   "outputs": [
    {
     "data": {
      "text/plain": [
       "DecisionTreeClassifier(max_depth=10, random_state=1)"
      ]
     },
     "execution_count": 13,
     "metadata": {},
     "output_type": "execute_result"
    }
   ],
   "source": [
    "tree = DecisionTreeClassifier(criterion='gini', max_depth=10, random_state=1)\n",
    "tree.fit(X_train, y_train)"
   ]
  },
  {
   "cell_type": "code",
   "execution_count": 14,
   "metadata": {},
   "outputs": [],
   "source": [
    "y_pred = tree.predict(X_test)"
   ]
  },
  {
   "cell_type": "markdown",
   "metadata": {},
   "source": [
    "### 6. Confustion Matrix Visual: gini Index"
   ]
  },
  {
   "cell_type": "code",
   "execution_count": 15,
   "metadata": {},
   "outputs": [
    {
     "data": {
      "text/html": [
       "<div>\n",
       "<style scoped>\n",
       "    .dataframe tbody tr th:only-of-type {\n",
       "        vertical-align: middle;\n",
       "    }\n",
       "\n",
       "    .dataframe tbody tr th {\n",
       "        vertical-align: top;\n",
       "    }\n",
       "\n",
       "    .dataframe thead th {\n",
       "        text-align: right;\n",
       "    }\n",
       "</style>\n",
       "<table border=\"1\" class=\"dataframe\">\n",
       "  <thead>\n",
       "    <tr style=\"text-align: right;\">\n",
       "      <th></th>\n",
       "      <th>Predict[0]</th>\n",
       "      <th>Predict[1]</th>\n",
       "    </tr>\n",
       "  </thead>\n",
       "  <tbody>\n",
       "    <tr>\n",
       "      <th>True[0]</th>\n",
       "      <td>331</td>\n",
       "      <td>24</td>\n",
       "    </tr>\n",
       "    <tr>\n",
       "      <th>True[1]</th>\n",
       "      <td>65</td>\n",
       "      <td>21</td>\n",
       "    </tr>\n",
       "  </tbody>\n",
       "</table>\n",
       "</div>"
      ],
      "text/plain": [
       "         Predict[0]  Predict[1]\n",
       "True[0]         331          24\n",
       "True[1]          65          21"
      ]
     },
     "execution_count": 15,
     "metadata": {},
     "output_type": "execute_result"
    }
   ],
   "source": [
    "confmat = pd.DataFrame(confusion_matrix(y_test, y_pred),\n",
    "                      index=['True[0]','True[1]'],\n",
    "                      columns=['Predict[0]','Predict[1]'])\n",
    "confmat"
   ]
  },
  {
   "cell_type": "code",
   "execution_count": 16,
   "metadata": {},
   "outputs": [
    {
     "data": {
      "image/png": "[encoded data removed]",
      "text/plain": [
       "<Figure size 432x288 with 2 Axes>"
      ]
     },
     "metadata": {
      "needs_background": "light"
     },
     "output_type": "display_data"
    }
   ],
   "source": [
    "plot_confusion_matrix(tree, X_test, y_test, cmap=plt.cm.Greens)\n",
    "plt.title('Confustion Matrix (class_prior[0.5,0.5])')\n",
    "plt.show()"
   ]
  },
  {
   "cell_type": "code",
   "execution_count": 17,
   "metadata": {},
   "outputs": [],
   "source": [
    "y_pred_p = tree.predict_proba(X_test)\n",
    "#y_pred_p"
   ]
  },
  {
   "cell_type": "code",
   "execution_count": 18,
   "metadata": {},
   "outputs": [
    {
     "name": "stdout",
     "output_type": "stream",
     "text": [
      "              precision    recall  f1-score   support\n",
      "\n",
      "           0       0.84      0.93      0.88       355\n",
      "           1       0.47      0.24      0.32        86\n",
      "\n",
      "    accuracy                           0.80       441\n",
      "   macro avg       0.65      0.59      0.60       441\n",
      "weighted avg       0.76      0.80      0.77       441\n",
      "\n"
     ]
    }
   ],
   "source": [
    "print(classification_report(y_test, y_pred))"
   ]
  },
  {
   "cell_type": "markdown",
   "metadata": {},
   "source": [
    "### 7. ROC curve and Cumulative Gain Charts"
   ]
  },
  {
   "cell_type": "code",
   "execution_count": 19,
   "metadata": {},
   "outputs": [
    {
     "data": {
      "image/png": "[encoded data removed]",
      "text/plain": [
       "<Figure size 432x288 with 1 Axes>"
      ]
     },
     "metadata": {
      "needs_background": "light"
     },
     "output_type": "display_data"
    }
   ],
   "source": [
    "skplt.metrics.plot_roc(y_test, tree.predict_proba(X_test), plot_micro=False)\n",
    "plt.show()"
   ]
  },
  {
   "cell_type": "code",
   "execution_count": 20,
   "metadata": {},
   "outputs": [
    {
     "data": {
      "image/png": "[encoded data removed]",
      "text/plain": [
       "<Figure size 432x288 with 1 Axes>"
      ]
     },
     "metadata": {
      "needs_background": "light"
     },
     "output_type": "display_data"
    }
   ],
   "source": [
    "skplt.metrics.plot_cumulative_gain(y_test, tree.predict_proba(X_test))\n",
    "plt.show()"
   ]
  },
  {
   "cell_type": "code",
   "execution_count": 21,
   "metadata": {},
   "outputs": [
    {
     "data": {
      "image/png": "[encoded data removed]",
      "text/plain": [
       "<Figure size 432x288 with 1 Axes>"
      ]
     },
     "metadata": {
      "needs_background": "light"
     },
     "output_type": "display_data"
    }
   ],
   "source": [
    "skplt.metrics.plot_lift_curve(y_test, tree.predict_proba(X_test))\n",
    "plt.show()"
   ]
  },
  {
   "cell_type": "markdown",
   "metadata": {},
   "source": [
    "### 8. Hypertuning Decision Tree Classsifier"
   ]
  },
  {
   "cell_type": "markdown",
   "metadata": {},
   "source": [
    "Manually changed max_depth and min_sample_leaf with values ranging from 1 to 99 for default criterion 'gini', then changed criterion to 'entropy'. The BEST result is with criterion 'entropy' hyptertuning to yield an 83% accuracy (below)."
   ]
  },
  {
   "cell_type": "markdown",
   "metadata": {},
   "source": [
    "Lowering <b>max_depth</b> improves accuracy; however, <b> min_samples_leaf</b>  has no affect on accuracy for this dataset."
   ]
  },
  {
   "cell_type": "markdown",
   "metadata": {},
   "source": [
    "#### ANSWER: criterion = 'entropy', max_depth='2', min_sample_leaf='10+' results in the <b>BEST</b> accuracy. Better than default."
   ]
  },
  {
   "cell_type": "markdown",
   "metadata": {},
   "source": [
    "* Model from 5 accuracy = 0.80\n",
    "* Model from 8 accuracy = 0.83"
   ]
  },
  {
   "cell_type": "markdown",
   "metadata": {},
   "source": [
    "Hyperparameter yields 3% better accurcy over default option from the model in step 5."
   ]
  },
  {
   "cell_type": "code",
   "execution_count": 22,
   "metadata": {},
   "outputs": [
    {
     "data": {
      "text/plain": [
       "DecisionTreeClassifier(criterion='entropy', max_depth=2, min_samples_leaf=10,\n",
       "                       random_state=1)"
      ]
     },
     "execution_count": 22,
     "metadata": {},
     "output_type": "execute_result"
    }
   ],
   "source": [
    "tree = DecisionTreeClassifier(criterion='entropy', max_depth=2, min_samples_leaf=10, random_state=1)\n",
    "tree.fit(X_train, y_train)"
   ]
  },
  {
   "cell_type": "code",
   "execution_count": 23,
   "metadata": {},
   "outputs": [],
   "source": [
    "y_pred = tree.predict(X_test)"
   ]
  },
  {
   "cell_type": "code",
   "execution_count": 24,
   "metadata": {},
   "outputs": [
    {
     "data": {
      "text/html": [
       "<div>\n",
       "<style scoped>\n",
       "    .dataframe tbody tr th:only-of-type {\n",
       "        vertical-align: middle;\n",
       "    }\n",
       "\n",
       "    .dataframe tbody tr th {\n",
       "        vertical-align: top;\n",
       "    }\n",
       "\n",
       "    .dataframe thead th {\n",
       "        text-align: right;\n",
       "    }\n",
       "</style>\n",
       "<table border=\"1\" class=\"dataframe\">\n",
       "  <thead>\n",
       "    <tr style=\"text-align: right;\">\n",
       "      <th></th>\n",
       "      <th>Predict[0]</th>\n",
       "      <th>Predict[1]</th>\n",
       "    </tr>\n",
       "  </thead>\n",
       "  <tbody>\n",
       "    <tr>\n",
       "      <th>True[0]</th>\n",
       "      <td>355</td>\n",
       "      <td>0</td>\n",
       "    </tr>\n",
       "    <tr>\n",
       "      <th>True[1]</th>\n",
       "      <td>75</td>\n",
       "      <td>11</td>\n",
       "    </tr>\n",
       "  </tbody>\n",
       "</table>\n",
       "</div>"
      ],
      "text/plain": [
       "         Predict[0]  Predict[1]\n",
       "True[0]         355           0\n",
       "True[1]          75          11"
      ]
     },
     "execution_count": 24,
     "metadata": {},
     "output_type": "execute_result"
    }
   ],
   "source": [
    "confmat = pd.DataFrame(confusion_matrix(y_test, y_pred),\n",
    "                      index=['True[0]','True[1]'],\n",
    "                      columns=['Predict[0]','Predict[1]'])\n",
    "confmat"
   ]
  },
  {
   "cell_type": "markdown",
   "metadata": {},
   "source": [
    "### Improved Confustion Matrix Visual: entropy"
   ]
  },
  {
   "cell_type": "code",
   "execution_count": 25,
   "metadata": {},
   "outputs": [
    {
     "data": {
      "image/png": "[encoded data removed]",
      "text/plain": [
       "<Figure size 432x288 with 2 Axes>"
      ]
     },
     "metadata": {
      "needs_background": "light"
     },
     "output_type": "display_data"
    }
   ],
   "source": [
    "plot_confusion_matrix(tree, X_test, y_test, cmap=plt.cm.Greens)\n",
    "plt.title('Confustion Matrix (class_prior[0.5,0.5])')\n",
    "plt.show()"
   ]
  },
  {
   "cell_type": "code",
   "execution_count": 26,
   "metadata": {},
   "outputs": [],
   "source": [
    "y_pred_p = tree.predict_proba(X_test)"
   ]
  },
  {
   "cell_type": "code",
   "execution_count": 27,
   "metadata": {},
   "outputs": [
    {
     "name": "stdout",
     "output_type": "stream",
     "text": [
      "              precision    recall  f1-score   support\n",
      "\n",
      "           0       0.83      1.00      0.90       355\n",
      "           1       1.00      0.13      0.23        86\n",
      "\n",
      "    accuracy                           0.83       441\n",
      "   macro avg       0.91      0.56      0.57       441\n",
      "weighted avg       0.86      0.83      0.77       441\n",
      "\n"
     ]
    }
   ],
   "source": [
    "print(classification_report(y_test, y_pred))"
   ]
  },
  {
   "cell_type": "markdown",
   "metadata": {},
   "source": [
    "### 9. Random Forest"
   ]
  },
  {
   "cell_type": "code",
   "execution_count": 28,
   "metadata": {},
   "outputs": [
    {
     "name": "stdout",
     "output_type": "stream",
     "text": [
      "              feature  importance       std\n",
      "19  CRS_DEP_TIME_20.0    0.002060  0.012712\n",
      "6    CRS_DEP_TIME_7.0    0.002348  0.014355\n",
      "13  CRS_DEP_TIME_14.0    0.002880  0.018823\n",
      "20  CRS_DEP_TIME_21.0    0.002995  0.015664\n",
      "10  CRS_DEP_TIME_11.0    0.003859  0.019521\n",
      "17  CRS_DEP_TIME_18.0    0.005594  0.029594\n",
      "4        DAY_WEEK_TUE    0.006656  0.020030\n",
      "5        DAY_WEEK_WEN    0.006726  0.024205\n",
      "16  CRS_DEP_TIME_17.0    0.010101  0.037888\n",
      "11  CRS_DEP_TIME_12.0    0.011485  0.038742\n",
      "8    CRS_DEP_TIME_9.0    0.011673  0.038155\n",
      "9   CRS_DEP_TIME_10.0    0.011966  0.041537\n",
      "15  CRS_DEP_TIME_16.0    0.014577  0.047721\n",
      "7    CRS_DEP_TIME_8.0    0.016503  0.046186\n",
      "3        DAY_WEEK_THU    0.019001  0.052123\n",
      "23           DEST_JFK    0.019093  0.056985\n",
      "12  CRS_DEP_TIME_13.0    0.029518  0.072729\n",
      "2        DAY_WEEK_SUN    0.041863  0.090609\n",
      "14  CRS_DEP_TIME_15.0    0.048145  0.090578\n",
      "0        DAY_WEEK_MON    0.050457  0.091174\n",
      "22         ORIGIN_IAD    0.052171  0.091627\n",
      "18  CRS_DEP_TIME_19.0    0.074804  0.121599\n",
      "21         ORIGIN_DCA    0.076120  0.115863\n",
      "24           DEST_LGA    0.077276  0.112840\n",
      "1        DAY_WEEK_SAT    0.084287  0.129730\n",
      "25          Weather_1    0.317842  0.287725\n"
     ]
    },
    {
     "data": {
      "text/plain": [
       "Text(0, 0.5, '')"
      ]
     },
     "execution_count": 28,
     "metadata": {},
     "output_type": "execute_result"
    },
    {
     "data": {
      "image/png": "[encoded data removed]",
      "text/plain": [
       "<Figure size 432x288 with 1 Axes>"
      ]
     },
     "metadata": {
      "needs_background": "light"
     },
     "output_type": "display_data"
    }
   ],
   "source": [
    "tree   = DecisionTreeClassifier(criterion='entropy', max_depth = 3, random_state=1)\n",
    "forest = RandomForestClassifier(criterion='entropy', max_depth = 3, n_estimators=500, random_state=1)\n",
    "# adaboost = AdaBoostClassifier(base_estimator=tree, n_estimators=500, random_state=1)   # not covered in class\n",
    "\n",
    "forest.fit(X_train, y_train)\n",
    "importances  = forest.feature_importances_\n",
    "std          = np.std([tree.feature_importances_ for tree in forest.estimators_], axis=0)\n",
    "df           = pd.DataFrame({'feature':X_train.columns, 'importance': importances, 'std': std})\n",
    "df           = df.sort_values('importance')\n",
    "\n",
    "print(df)\n",
    "\n",
    "ax = df.plot(kind='barh', xerr='std', x='feature', legend=False)\n",
    "ax.set_ylabel('')"
   ]
  },
  {
   "cell_type": "code",
   "execution_count": 29,
   "metadata": {},
   "outputs": [
    {
     "name": "stdout",
     "output_type": "stream",
     "text": [
      "Sensitivity for Decision Tree: 0.163\n",
      "Accuracy for Decision Tree: 0.810\n",
      "Sensitivity for Random Forest: 0.128\n",
      "Accuracy for Random Forest: 0.830\n"
     ]
    },
    {
     "data": {
      "image/png": "[encoded data removed]",
      "text/plain": [
       "<Figure size 432x288 with 1 Axes>"
      ]
     },
     "metadata": {
      "needs_background": "light"
     },
     "output_type": "display_data"
    }
   ],
   "source": [
    "clf_labels  = ['Decision Tree', 'Random Forest']\n",
    "all_clf      = [tree, forest]\n",
    "\n",
    "colors       = ['black', 'orange', 'blue', 'green']\n",
    "linestyles   = [':', '--', '-.', '-']\n",
    "\n",
    "for clf, label, clr, ls in zip(all_clf, clf_labels, colors, linestyles):\n",
    "    clf.fit(X_train, y_train)\n",
    "    y_pred   = clf.predict_proba(X_test)[:,1]\n",
    "    y_p      = clf.predict(X_test)\n",
    "    print('Sensitivity for %s: %.3f' % (label, recall_score(y_true=y_test, y_pred=y_p)))\n",
    "    print('Accuracy for %s: %.3f' % (label, accuracy_score(y_true=y_test, y_pred=y_p)))\n",
    "    fpr, tpr, thresholds = roc_curve(y_true=y_test, y_score=y_pred)\n",
    "    roc_auc  = auc(x=fpr, y=tpr)\n",
    "    plt.plot(fpr, tpr, color=clr, linestyle=ls, label='%s (auc = %0.3f)'% (label, roc_auc))\n",
    "    \n",
    "plt.legend(loc='lower right')\n",
    "plt.plot([0,1],[0,1], linestyle='--', color='gray', linewidth=2)\n",
    "\n",
    "plt.xlim([-0.1, 1.1])\n",
    "plt.ylim([-0.1, 1.1])\n",
    "plt.grid(alpha=0.5)\n",
    "plt.xlabel('1-Specificity')\n",
    "plt.ylabel('Sensitivity')\n",
    "\n",
    "plt.show()"
   ]
  },
  {
   "cell_type": "code",
   "execution_count": 30,
   "metadata": {},
   "outputs": [
    {
     "name": "stdout",
     "output_type": "stream",
     "text": [
      "              feature  importance       std\n",
      "19  CRS_DEP_TIME_20.0    0.001264  0.009818\n",
      "10  CRS_DEP_TIME_11.0    0.001402  0.008873\n",
      "13  CRS_DEP_TIME_14.0    0.002379  0.017982\n",
      "6    CRS_DEP_TIME_7.0    0.003078  0.020319\n",
      "20  CRS_DEP_TIME_21.0    0.004004  0.021870\n",
      "17  CRS_DEP_TIME_18.0    0.004157  0.026894\n",
      "5        DAY_WEEK_WEN    0.006024  0.024273\n",
      "4        DAY_WEEK_TUE    0.006161  0.020943\n",
      "11  CRS_DEP_TIME_12.0    0.007242  0.028178\n",
      "9   CRS_DEP_TIME_10.0    0.007529  0.030205\n",
      "8    CRS_DEP_TIME_9.0    0.007781  0.029542\n",
      "16  CRS_DEP_TIME_17.0    0.011841  0.043694\n",
      "7    CRS_DEP_TIME_8.0    0.012198  0.036490\n",
      "15  CRS_DEP_TIME_16.0    0.012429  0.043792\n",
      "23           DEST_JFK    0.016631  0.046331\n",
      "3        DAY_WEEK_THU    0.016953  0.047727\n",
      "12  CRS_DEP_TIME_13.0    0.021193  0.061894\n",
      "2        DAY_WEEK_SUN    0.047402  0.101954\n",
      "14  CRS_DEP_TIME_15.0    0.053225  0.095774\n",
      "0        DAY_WEEK_MON    0.056865  0.100691\n",
      "22         ORIGIN_IAD    0.057742  0.097716\n",
      "1        DAY_WEEK_SAT    0.063292  0.107348\n",
      "24           DEST_LGA    0.073823  0.110085\n",
      "21         ORIGIN_DCA    0.074551  0.116040\n",
      "18  CRS_DEP_TIME_19.0    0.083596  0.131052\n",
      "25          Weather_1    0.347239  0.308607\n"
     ]
    },
    {
     "data": {
      "text/plain": [
       "Text(0, 0.5, '')"
      ]
     },
     "execution_count": 30,
     "metadata": {},
     "output_type": "execute_result"
    },
    {
     "data": {
      "image/png": "[encoded data removed]",
      "text/plain": [
       "<Figure size 432x288 with 1 Axes>"
      ]
     },
     "metadata": {
      "needs_background": "light"
     },
     "output_type": "display_data"
    }
   ],
   "source": [
    "tree   = DecisionTreeClassifier(criterion='gini', max_depth = 3, random_state=1)\n",
    "forest = RandomForestClassifier(criterion='gini', max_depth = 3, n_estimators=500, random_state=1)\n",
    "# adaboost = AdaBoostClassifier(base_estimator=tree, n_estimators=500, random_state=1)   # not covered in class\n",
    "\n",
    "forest.fit(X_train, y_train)\n",
    "importances  = forest.feature_importances_\n",
    "std          = np.std([tree.feature_importances_ for tree in forest.estimators_], axis=0)\n",
    "df           = pd.DataFrame({'feature':X_train.columns, 'importance': importances, 'std': std})\n",
    "df           = df.sort_values('importance')\n",
    "\n",
    "print(df)\n",
    "\n",
    "ax = df.plot(kind='barh', xerr='std', x='feature', legend=False)\n",
    "ax.set_ylabel('')"
   ]
  },
  {
   "cell_type": "code",
   "execution_count": 31,
   "metadata": {},
   "outputs": [
    {
     "name": "stdout",
     "output_type": "stream",
     "text": [
      "Sensitivity for Decision Tree: 0.163\n",
      "Accuracy for Decision Tree: 0.810\n",
      "Sensitivity for Random Forest: 0.128\n",
      "Accuracy for Random Forest: 0.830\n"
     ]
    },
    {
     "data": {
      "image/png": "[encoded data removed]",
      "text/plain": [
       "<Figure size 432x288 with 1 Axes>"
      ]
     },
     "metadata": {
      "needs_background": "light"
     },
     "output_type": "display_data"
    }
   ],
   "source": [
    "clf_labels  = ['Decision Tree', 'Random Forest']\n",
    "all_clf      = [tree, forest]\n",
    "\n",
    "colors       = ['black', 'orange', 'blue', 'green']\n",
    "linestyles   = [':', '--', '-.', '-']\n",
    "\n",
    "for clf, label, clr, ls in zip(all_clf, clf_labels, colors, linestyles):\n",
    "    clf.fit(X_train, y_train)\n",
    "    y_pred   = clf.predict_proba(X_test)[:,1]\n",
    "    y_p      = clf.predict(X_test)\n",
    "    print('Sensitivity for %s: %.3f' % (label, recall_score(y_true=y_test, y_pred=y_p)))\n",
    "    print('Accuracy for %s: %.3f' % (label, accuracy_score(y_true=y_test, y_pred=y_p)))\n",
    "    fpr, tpr, thresholds = roc_curve(y_true=y_test, y_score=y_pred)\n",
    "    roc_auc  = auc(x=fpr, y=tpr)\n",
    "    plt.plot(fpr, tpr, color=clr, linestyle=ls, label='%s (auc = %0.3f)'% (label, roc_auc))\n",
    "    \n",
    "plt.legend(loc='lower right')\n",
    "plt.plot([0,1],[0,1], linestyle='--', color='gray', linewidth=2)\n",
    "\n",
    "plt.xlim([-0.1, 1.1])\n",
    "plt.ylim([-0.1, 1.1])\n",
    "plt.grid(alpha=0.5)\n",
    "plt.xlabel('1-Specificity')\n",
    "plt.ylabel('Sensitivity')\n",
    "\n",
    "plt.show()"
   ]
  },
  {
   "cell_type": "markdown",
   "metadata": {},
   "source": [
    "Random Forest Accuracies vs Model from step 5:\n",
    "* Model from 5 accuracy = 0.80 gini\n",
    "* Model from 9 accuracy = 0.83 gini\n",
    "* Model from 9 accuracy = 0.83 entropy"
   ]
  },
  {
   "cell_type": "markdown",
   "metadata": {},
   "source": [
    "#### Both hyperparameter tuning with gini and entropy results in a 3% improvement over the default model from step 5."
   ]
  },
  {
   "cell_type": "code",
   "execution_count": null,
   "metadata": {},
   "outputs": [],
   "source": []
  }
 ],
 "metadata": {
  "kernelspec": {
   "display_name": "Python 3",
   "language": "python",
   "name": "python3"
  },
  "language_info": {
   "codemirror_mode": {
    "name": "ipython",
    "version": 3
   },
   "file_extension": ".py",
   "mimetype": "text/x-python",
   "name": "python",
   "nbconvert_exporter": "python",
   "pygments_lexer": "ipython3",
   "version": "3.9.4"
  }
 },
 "nbformat": 4,
 "nbformat_minor": 4
}
