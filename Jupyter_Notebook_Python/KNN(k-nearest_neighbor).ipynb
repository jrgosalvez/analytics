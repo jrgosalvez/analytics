{
 "cells": [
  {
   "cell_type": "markdown",
   "metadata": {},
   "source": [
    "# K-Nearest Neighbor\n",
    "#### Rick Gosalvez, Data Mining 2021"
   ]
  },
  {
   "cell_type": "markdown",
   "metadata": {},
   "source": [
    "<i>Normalize data before clustering!</i>"
   ]
  },
  {
   "cell_type": "markdown",
   "metadata": {},
   "source": [
    "# Theory (by Hand)"
   ]
  },
  {
   "cell_type": "markdown",
   "metadata": {},
   "source": [
    "## 1. Hierarchical Methods - Complete Linkage Method (Max Distance)\n",
    "max(d(Ai, Bj))"
   ]
  },
  {
   "cell_type": "markdown",
   "metadata": {},
   "source": [
    "### Agglomerative Clustering Cacluations and Dendrogram"
   ]
  },
  {
   "cell_type": "markdown",
   "metadata": {},
   "source": [
    "![Clustering and Dendrogram Calculations](img/HW7_T1.jpeg)"
   ]
  },
  {
   "cell_type": "markdown",
   "metadata": {},
   "source": [
    "![Clustering and Dendrogram Calculations](img/HW7_T1_logic.jpeg)"
   ]
  },
  {
   "cell_type": "markdown",
   "metadata": {},
   "source": [
    "k clusters for 4 iterations are:\n",
    "* Iteration 1: 5 Clusters = ('A', 'B', 'C', 'D', 'E')\n",
    "* Iteration 2: 4 Clusters = ('A,D', 'B', 'C', 'E')\n",
    "* Iteration 3: 3 Clusters = ('A,D', 'B,E', 'C')\n",
    "* Iteration 4: 2 Clusters = ('A,D,C', 'B,E')"
   ]
  },
  {
   "cell_type": "markdown",
   "metadata": {},
   "source": [
    "## 2. K-means Clustering (w Euclidean dist.) "
   ]
  },
  {
   "cell_type": "markdown",
   "metadata": {},
   "source": [
    "![Kmeans Clustering Calculations](img/HW7_T2.jpeg)"
   ]
  },
  {
   "cell_type": "markdown",
   "metadata": {},
   "source": [
    "![Kmeans Clustering Calculations](img/HW7_T2_logic.jpeg)"
   ]
  },
  {
   "cell_type": "markdown",
   "metadata": {},
   "source": [
    "After 1 iteration, cluster means do not change; there is no change in clusters.\n",
    "* Cluster 1 = (A,C,D)\n",
    "* Cluster 2 = (B, E)"
   ]
  },
  {
   "cell_type": "markdown",
   "metadata": {},
   "source": [
    "# Practice"
   ]
  },
  {
   "cell_type": "markdown",
   "metadata": {},
   "source": [
    "## 1. K-means Clustering and Elbow Chart"
   ]
  },
  {
   "cell_type": "markdown",
   "metadata": {},
   "source": [
    "### Import Libraries"
   ]
  },
  {
   "cell_type": "code",
   "execution_count": 1,
   "metadata": {},
   "outputs": [],
   "source": [
    "import numpy as np\n",
    "import pandas as pd\n",
    "import matplotlib.pyplot as plt\n",
    "\n",
    "from sklearn.preprocessing import StandardScaler\n",
    "from sklearn.cluster import KMeans"
   ]
  },
  {
   "cell_type": "markdown",
   "metadata": {},
   "source": [
    "### 1.1 Load and Prep Data"
   ]
  },
  {
   "cell_type": "code",
   "execution_count": 2,
   "metadata": {},
   "outputs": [
    {
     "name": "stdout",
     "output_type": "stream",
     "text": [
      "(22, 9)\n"
     ]
    },
    {
     "data": {
      "text/html": [
       "<div>\n",
       "<style scoped>\n",
       "    .dataframe tbody tr th:only-of-type {\n",
       "        vertical-align: middle;\n",
       "    }\n",
       "\n",
       "    .dataframe tbody tr th {\n",
       "        vertical-align: top;\n",
       "    }\n",
       "\n",
       "    .dataframe thead th {\n",
       "        text-align: right;\n",
       "    }\n",
       "</style>\n",
       "<table border=\"1\" class=\"dataframe\">\n",
       "  <thead>\n",
       "    <tr style=\"text-align: right;\">\n",
       "      <th></th>\n",
       "      <th>Company</th>\n",
       "      <th>Fixed_charge</th>\n",
       "      <th>RoR</th>\n",
       "      <th>Cost</th>\n",
       "      <th>Load_factor</th>\n",
       "      <th>Demand_growth</th>\n",
       "      <th>Sales</th>\n",
       "      <th>Nuclear</th>\n",
       "      <th>Fuel_Cost</th>\n",
       "    </tr>\n",
       "  </thead>\n",
       "  <tbody>\n",
       "    <tr>\n",
       "      <th>0</th>\n",
       "      <td>Arizona</td>\n",
       "      <td>1.06</td>\n",
       "      <td>9.2</td>\n",
       "      <td>151</td>\n",
       "      <td>54.4</td>\n",
       "      <td>1.6</td>\n",
       "      <td>9077</td>\n",
       "      <td>0.0</td>\n",
       "      <td>0.628</td>\n",
       "    </tr>\n",
       "    <tr>\n",
       "      <th>1</th>\n",
       "      <td>Boston</td>\n",
       "      <td>0.89</td>\n",
       "      <td>10.3</td>\n",
       "      <td>202</td>\n",
       "      <td>57.9</td>\n",
       "      <td>2.2</td>\n",
       "      <td>5088</td>\n",
       "      <td>25.3</td>\n",
       "      <td>1.555</td>\n",
       "    </tr>\n",
       "    <tr>\n",
       "      <th>2</th>\n",
       "      <td>Central</td>\n",
       "      <td>1.43</td>\n",
       "      <td>15.4</td>\n",
       "      <td>113</td>\n",
       "      <td>53.0</td>\n",
       "      <td>3.4</td>\n",
       "      <td>9212</td>\n",
       "      <td>0.0</td>\n",
       "      <td>1.058</td>\n",
       "    </tr>\n",
       "    <tr>\n",
       "      <th>3</th>\n",
       "      <td>Commonwealth</td>\n",
       "      <td>1.02</td>\n",
       "      <td>11.2</td>\n",
       "      <td>168</td>\n",
       "      <td>56.0</td>\n",
       "      <td>0.3</td>\n",
       "      <td>6423</td>\n",
       "      <td>34.3</td>\n",
       "      <td>0.700</td>\n",
       "    </tr>\n",
       "    <tr>\n",
       "      <th>4</th>\n",
       "      <td>NY</td>\n",
       "      <td>1.49</td>\n",
       "      <td>8.8</td>\n",
       "      <td>192</td>\n",
       "      <td>51.2</td>\n",
       "      <td>1.0</td>\n",
       "      <td>3300</td>\n",
       "      <td>15.6</td>\n",
       "      <td>2.044</td>\n",
       "    </tr>\n",
       "  </tbody>\n",
       "</table>\n",
       "</div>"
      ],
      "text/plain": [
       "        Company  Fixed_charge   RoR  Cost  Load_factor  Demand_growth  Sales  \\\n",
       "0      Arizona           1.06   9.2   151         54.4            1.6   9077   \n",
       "1       Boston           0.89  10.3   202         57.9            2.2   5088   \n",
       "2      Central           1.43  15.4   113         53.0            3.4   9212   \n",
       "3  Commonwealth          1.02  11.2   168         56.0            0.3   6423   \n",
       "4            NY          1.49   8.8   192         51.2            1.0   3300   \n",
       "\n",
       "   Nuclear  Fuel_Cost  \n",
       "0      0.0      0.628  \n",
       "1     25.3      1.555  \n",
       "2      0.0      1.058  \n",
       "3     34.3      0.700  \n",
       "4     15.6      2.044  "
      ]
     },
     "execution_count": 2,
     "metadata": {},
     "output_type": "execute_result"
    }
   ],
   "source": [
    "df = pd.read_csv('Utilities.csv')\n",
    "print(df.shape)\n",
    "df.head()"
   ]
  },
  {
   "cell_type": "markdown",
   "metadata": {},
   "source": [
    "#### 1.2 Remove Company (make index label)"
   ]
  },
  {
   "cell_type": "code",
   "execution_count": 3,
   "metadata": {},
   "outputs": [
    {
     "data": {
      "text/plain": [
       "array(['Arizona ', 'Boston ', 'Central ', 'Commonwealth', 'NY',\n",
       "       'Florida ', 'Hawaiian ', 'Idaho', 'Kentucky', 'Madison ', 'Nevada',\n",
       "       'New England', 'Northern', 'Oklahoma', 'Pacific ', 'Puget',\n",
       "       'San Diego', 'Southern', 'Texas', 'Wisconsin', 'United',\n",
       "       'Virginia'], dtype=object)"
      ]
     },
     "execution_count": 3,
     "metadata": {},
     "output_type": "execute_result"
    }
   ],
   "source": [
    "labels = np.array(df['Company'])\n",
    "labels"
   ]
  },
  {
   "cell_type": "code",
   "execution_count": 4,
   "metadata": {},
   "outputs": [
    {
     "data": {
      "text/html": [
       "<div>\n",
       "<style scoped>\n",
       "    .dataframe tbody tr th:only-of-type {\n",
       "        vertical-align: middle;\n",
       "    }\n",
       "\n",
       "    .dataframe tbody tr th {\n",
       "        vertical-align: top;\n",
       "    }\n",
       "\n",
       "    .dataframe thead th {\n",
       "        text-align: right;\n",
       "    }\n",
       "</style>\n",
       "<table border=\"1\" class=\"dataframe\">\n",
       "  <thead>\n",
       "    <tr style=\"text-align: right;\">\n",
       "      <th></th>\n",
       "      <th>Fixed_charge</th>\n",
       "      <th>RoR</th>\n",
       "      <th>Cost</th>\n",
       "      <th>Load_factor</th>\n",
       "      <th>Demand_growth</th>\n",
       "      <th>Sales</th>\n",
       "      <th>Nuclear</th>\n",
       "      <th>Fuel_Cost</th>\n",
       "    </tr>\n",
       "  </thead>\n",
       "  <tbody>\n",
       "    <tr>\n",
       "      <th>Arizona</th>\n",
       "      <td>1.06</td>\n",
       "      <td>9.2</td>\n",
       "      <td>151</td>\n",
       "      <td>54.4</td>\n",
       "      <td>1.6</td>\n",
       "      <td>9077</td>\n",
       "      <td>0.0</td>\n",
       "      <td>0.628</td>\n",
       "    </tr>\n",
       "    <tr>\n",
       "      <th>Boston</th>\n",
       "      <td>0.89</td>\n",
       "      <td>10.3</td>\n",
       "      <td>202</td>\n",
       "      <td>57.9</td>\n",
       "      <td>2.2</td>\n",
       "      <td>5088</td>\n",
       "      <td>25.3</td>\n",
       "      <td>1.555</td>\n",
       "    </tr>\n",
       "    <tr>\n",
       "      <th>Central</th>\n",
       "      <td>1.43</td>\n",
       "      <td>15.4</td>\n",
       "      <td>113</td>\n",
       "      <td>53.0</td>\n",
       "      <td>3.4</td>\n",
       "      <td>9212</td>\n",
       "      <td>0.0</td>\n",
       "      <td>1.058</td>\n",
       "    </tr>\n",
       "    <tr>\n",
       "      <th>Commonwealth</th>\n",
       "      <td>1.02</td>\n",
       "      <td>11.2</td>\n",
       "      <td>168</td>\n",
       "      <td>56.0</td>\n",
       "      <td>0.3</td>\n",
       "      <td>6423</td>\n",
       "      <td>34.3</td>\n",
       "      <td>0.700</td>\n",
       "    </tr>\n",
       "    <tr>\n",
       "      <th>NY</th>\n",
       "      <td>1.49</td>\n",
       "      <td>8.8</td>\n",
       "      <td>192</td>\n",
       "      <td>51.2</td>\n",
       "      <td>1.0</td>\n",
       "      <td>3300</td>\n",
       "      <td>15.6</td>\n",
       "      <td>2.044</td>\n",
       "    </tr>\n",
       "  </tbody>\n",
       "</table>\n",
       "</div>"
      ],
      "text/plain": [
       "              Fixed_charge   RoR  Cost  Load_factor  Demand_growth  Sales  \\\n",
       "Arizona               1.06   9.2   151         54.4            1.6   9077   \n",
       "Boston                0.89  10.3   202         57.9            2.2   5088   \n",
       "Central               1.43  15.4   113         53.0            3.4   9212   \n",
       "Commonwealth          1.02  11.2   168         56.0            0.3   6423   \n",
       "NY                    1.49   8.8   192         51.2            1.0   3300   \n",
       "\n",
       "              Nuclear  Fuel_Cost  \n",
       "Arizona           0.0      0.628  \n",
       "Boston           25.3      1.555  \n",
       "Central           0.0      1.058  \n",
       "Commonwealth     34.3      0.700  \n",
       "NY               15.6      2.044  "
      ]
     },
     "execution_count": 4,
     "metadata": {},
     "output_type": "execute_result"
    }
   ],
   "source": [
    "df = df.drop('Company', axis=1)\n",
    "df.index = labels\n",
    "df.head()"
   ]
  },
  {
   "cell_type": "markdown",
   "metadata": {},
   "source": [
    "<div class=\"alert alert-block alert-warning\">\n",
    "<b>IMPORTANT TO NORMALIZE</b> data before conducting ML clustering to improve processing & accuracy! <br>Use sklearn StandardScalar for this example, but others exist (e.g. MinMaxScalar, Z-Score, etc.)</div>"
   ]
  },
  {
   "cell_type": "code",
   "execution_count": 5,
   "metadata": {},
   "outputs": [
    {
     "data": {
      "text/html": [
       "<div>\n",
       "<style scoped>\n",
       "    .dataframe tbody tr th:only-of-type {\n",
       "        vertical-align: middle;\n",
       "    }\n",
       "\n",
       "    .dataframe tbody tr th {\n",
       "        vertical-align: top;\n",
       "    }\n",
       "\n",
       "    .dataframe thead th {\n",
       "        text-align: right;\n",
       "    }\n",
       "</style>\n",
       "<table border=\"1\" class=\"dataframe\">\n",
       "  <thead>\n",
       "    <tr style=\"text-align: right;\">\n",
       "      <th></th>\n",
       "      <th>Fixed_charge</th>\n",
       "      <th>RoR</th>\n",
       "      <th>Cost</th>\n",
       "      <th>Load_factor</th>\n",
       "      <th>Demand_growth</th>\n",
       "      <th>Sales</th>\n",
       "      <th>Nuclear</th>\n",
       "      <th>Fuel_Cost</th>\n",
       "    </tr>\n",
       "  </thead>\n",
       "  <tbody>\n",
       "    <tr>\n",
       "      <th>Arizona</th>\n",
       "      <td>-0.300057</td>\n",
       "      <td>-0.700750</td>\n",
       "      <td>-0.426938</td>\n",
       "      <td>-0.591310</td>\n",
       "      <td>-0.538611</td>\n",
       "      <td>0.046983</td>\n",
       "      <td>-0.731447</td>\n",
       "      <td>-0.873765</td>\n",
       "    </tr>\n",
       "    <tr>\n",
       "      <th>Boston</th>\n",
       "      <td>-1.243092</td>\n",
       "      <td>-0.199030</td>\n",
       "      <td>0.840322</td>\n",
       "      <td>0.211704</td>\n",
       "      <td>-0.341667</td>\n",
       "      <td>-1.103127</td>\n",
       "      <td>0.810687</td>\n",
       "      <td>0.832436</td>\n",
       "    </tr>\n",
       "    <tr>\n",
       "      <th>Central</th>\n",
       "      <td>1.752432</td>\n",
       "      <td>2.127130</td>\n",
       "      <td>-1.371171</td>\n",
       "      <td>-0.912516</td>\n",
       "      <td>0.052220</td>\n",
       "      <td>0.085906</td>\n",
       "      <td>-0.731447</td>\n",
       "      <td>-0.082323</td>\n",
       "    </tr>\n",
       "    <tr>\n",
       "      <th>Commonwealth</th>\n",
       "      <td>-0.521947</td>\n",
       "      <td>0.211469</td>\n",
       "      <td>-0.004518</td>\n",
       "      <td>-0.224218</td>\n",
       "      <td>-0.965322</td>\n",
       "      <td>-0.718219</td>\n",
       "      <td>1.359271</td>\n",
       "      <td>-0.741244</td>\n",
       "    </tr>\n",
       "    <tr>\n",
       "      <th>NY</th>\n",
       "      <td>2.085268</td>\n",
       "      <td>-0.883194</td>\n",
       "      <td>0.591840</td>\n",
       "      <td>-1.325495</td>\n",
       "      <td>-0.735555</td>\n",
       "      <td>-1.618644</td>\n",
       "      <td>0.219434</td>\n",
       "      <td>1.732470</td>\n",
       "    </tr>\n",
       "  </tbody>\n",
       "</table>\n",
       "</div>"
      ],
      "text/plain": [
       "              Fixed_charge       RoR      Cost  Load_factor  Demand_growth  \\\n",
       "Arizona          -0.300057 -0.700750 -0.426938    -0.591310      -0.538611   \n",
       "Boston           -1.243092 -0.199030  0.840322     0.211704      -0.341667   \n",
       "Central           1.752432  2.127130 -1.371171    -0.912516       0.052220   \n",
       "Commonwealth     -0.521947  0.211469 -0.004518    -0.224218      -0.965322   \n",
       "NY                2.085268 -0.883194  0.591840    -1.325495      -0.735555   \n",
       "\n",
       "                 Sales   Nuclear  Fuel_Cost  \n",
       "Arizona       0.046983 -0.731447  -0.873765  \n",
       "Boston       -1.103127  0.810687   0.832436  \n",
       "Central       0.085906 -0.731447  -0.082323  \n",
       "Commonwealth -0.718219  1.359271  -0.741244  \n",
       "NY           -1.618644  0.219434   1.732470  "
      ]
     },
     "execution_count": 5,
     "metadata": {},
     "output_type": "execute_result"
    }
   ],
   "source": [
    "norm = StandardScaler()\n",
    "df_norm = norm.fit_transform(df)\n",
    "df_norm = pd.DataFrame(df_norm, columns=df.columns)\n",
    "df_norm.index = labels\n",
    "df_norm.head()"
   ]
  },
  {
   "cell_type": "code",
   "execution_count": 6,
   "metadata": {},
   "outputs": [
    {
     "data": {
      "text/plain": [
       "<matplotlib.axes._subplots.AxesSubplot at 0x1b1d144a50>"
      ]
     },
     "execution_count": 6,
     "metadata": {},
     "output_type": "execute_result"
    },
    {
     "data": {
      "image/png": "[encoded data removed]",
      "text/plain": [
       "<Figure size 432x288 with 1 Axes>"
      ]
     },
     "metadata": {
      "needs_background": "light"
     },
     "output_type": "display_data"
    }
   ],
   "source": [
    "df_norm.plot(kind = 'bar')"
   ]
  },
  {
   "cell_type": "markdown",
   "metadata": {},
   "source": [
    "#### 1.3 KMeans"
   ]
  },
  {
   "cell_type": "code",
   "execution_count": 7,
   "metadata": {},
   "outputs": [],
   "source": [
    "km = KMeans(n_clusters=3,\n",
    "           init='k-means++',\n",
    "           n_init=10,\n",
    "           max_iter=300,\n",
    "           random_state=1)\n",
    "y_km = km.fit_predict(df_norm)"
   ]
  },
  {
   "cell_type": "code",
   "execution_count": 8,
   "metadata": {},
   "outputs": [
    {
     "data": {
      "text/plain": [
       "array([2, 1, 2, 2, 1, 2, 1, 0, 2, 2, 0, 1, 2, 2, 1, 0, 1, 2, 2, 2, 1, 2],\n",
       "      dtype=int32)"
      ]
     },
     "execution_count": 8,
     "metadata": {},
     "output_type": "execute_result"
    }
   ],
   "source": [
    "y_km"
   ]
  },
  {
   "cell_type": "code",
   "execution_count": 9,
   "metadata": {},
   "outputs": [
    {
     "data": {
      "text/html": [
       "<div>\n",
       "<style scoped>\n",
       "    .dataframe tbody tr th:only-of-type {\n",
       "        vertical-align: middle;\n",
       "    }\n",
       "\n",
       "    .dataframe tbody tr th {\n",
       "        vertical-align: top;\n",
       "    }\n",
       "\n",
       "    .dataframe thead th {\n",
       "        text-align: right;\n",
       "    }\n",
       "</style>\n",
       "<table border=\"1\" class=\"dataframe\">\n",
       "  <thead>\n",
       "    <tr style=\"text-align: right;\">\n",
       "      <th></th>\n",
       "      <th>Fixed_charge</th>\n",
       "      <th>RoR</th>\n",
       "      <th>Cost</th>\n",
       "      <th>Load_factor</th>\n",
       "      <th>Demand_growth</th>\n",
       "      <th>Sales</th>\n",
       "      <th>Nuclear</th>\n",
       "      <th>Fuel_Cost</th>\n",
       "      <th>Clusters</th>\n",
       "    </tr>\n",
       "  </thead>\n",
       "  <tbody>\n",
       "    <tr>\n",
       "      <th>Nevada</th>\n",
       "      <td>-2.019709</td>\n",
       "      <td>-1.476137</td>\n",
       "      <td>0.119723</td>\n",
       "      <td>-1.256665</td>\n",
       "      <td>1.069762</td>\n",
       "      <td>2.458495</td>\n",
       "      <td>-0.731447</td>\n",
       "      <td>-0.616086</td>\n",
       "      <td>0</td>\n",
       "    </tr>\n",
       "    <tr>\n",
       "      <th>Idaho</th>\n",
       "      <td>-0.078166</td>\n",
       "      <td>-0.700750</td>\n",
       "      <td>1.908797</td>\n",
       "      <td>0.005214</td>\n",
       "      <td>0.019396</td>\n",
       "      <td>1.201706</td>\n",
       "      <td>-0.731447</td>\n",
       "      <td>-1.460904</td>\n",
       "      <td>0</td>\n",
       "    </tr>\n",
       "    <tr>\n",
       "      <th>Puget</th>\n",
       "      <td>0.254670</td>\n",
       "      <td>-0.381474</td>\n",
       "      <td>2.082734</td>\n",
       "      <td>-0.224218</td>\n",
       "      <td>1.956008</td>\n",
       "      <td>2.040430</td>\n",
       "      <td>-0.731447</td>\n",
       "      <td>-0.888489</td>\n",
       "      <td>0</td>\n",
       "    </tr>\n",
       "    <tr>\n",
       "      <th>Boston</th>\n",
       "      <td>-1.243092</td>\n",
       "      <td>-0.199030</td>\n",
       "      <td>0.840322</td>\n",
       "      <td>0.211704</td>\n",
       "      <td>-0.341667</td>\n",
       "      <td>-1.103127</td>\n",
       "      <td>0.810687</td>\n",
       "      <td>0.832436</td>\n",
       "      <td>1</td>\n",
       "    </tr>\n",
       "    <tr>\n",
       "      <th>NY</th>\n",
       "      <td>2.085268</td>\n",
       "      <td>-0.883194</td>\n",
       "      <td>0.591840</td>\n",
       "      <td>-1.325495</td>\n",
       "      <td>-0.735555</td>\n",
       "      <td>-1.618644</td>\n",
       "      <td>0.219434</td>\n",
       "      <td>1.732470</td>\n",
       "      <td>1</td>\n",
       "    </tr>\n",
       "  </tbody>\n",
       "</table>\n",
       "</div>"
      ],
      "text/plain": [
       "         Fixed_charge       RoR      Cost  Load_factor  Demand_growth  \\\n",
       "Nevada      -2.019709 -1.476137  0.119723    -1.256665       1.069762   \n",
       "Idaho       -0.078166 -0.700750  1.908797     0.005214       0.019396   \n",
       "Puget        0.254670 -0.381474  2.082734    -0.224218       1.956008   \n",
       "Boston      -1.243092 -0.199030  0.840322     0.211704      -0.341667   \n",
       "NY           2.085268 -0.883194  0.591840    -1.325495      -0.735555   \n",
       "\n",
       "            Sales   Nuclear  Fuel_Cost  Clusters  \n",
       "Nevada   2.458495 -0.731447  -0.616086         0  \n",
       "Idaho    1.201706 -0.731447  -1.460904         0  \n",
       "Puget    2.040430 -0.731447  -0.888489         0  \n",
       "Boston  -1.103127  0.810687   0.832436         1  \n",
       "NY      -1.618644  0.219434   1.732470         1  "
      ]
     },
     "execution_count": 9,
     "metadata": {},
     "output_type": "execute_result"
    }
   ],
   "source": [
    "df_norm['Clusters'] = y_km\n",
    "sorted_df = df_norm.sort_values(by='Clusters')\n",
    "sorted_df.head()"
   ]
  },
  {
   "cell_type": "markdown",
   "metadata": {},
   "source": [
    "#### 1.3 Elbow Chart"
   ]
  },
  {
   "cell_type": "code",
   "execution_count": 10,
   "metadata": {},
   "outputs": [
    {
     "data": {
      "image/png": "[encoded data removed]",
      "text/plain": [
       "<Figure size 432x288 with 1 Axes>"
      ]
     },
     "metadata": {
      "needs_background": "light"
     },
     "output_type": "display_data"
    }
   ],
   "source": [
    "distortions = []\n",
    "for i in range(1,11):\n",
    "    km = KMeans(n_clusters=i,\n",
    "           init='k-means++',\n",
    "           n_init=10,\n",
    "           max_iter=300,\n",
    "           random_state=0)\n",
    "    km.fit(df_norm)\n",
    "    distortions.append(km.inertia_)\n",
    "plt.plot(range(1,11), distortions, marker='o')\n",
    "plt.xlabel('Number of Clusters')\n",
    "plt.ylabel('Distortion')\n",
    "plt.tight_layout()\n",
    "plt.show()"
   ]
  },
  {
   "cell_type": "markdown",
   "metadata": {},
   "source": [
    "#### 1.4 Three Cluster Groupings"
   ]
  },
  {
   "cell_type": "code",
   "execution_count": 11,
   "metadata": {},
   "outputs": [
    {
     "name": "stdout",
     "output_type": "stream",
     "text": [
      "Cluster 1 has 3 Companies:\n",
      " ['Nevada', 'Idaho', 'Puget']\n",
      "\n",
      "Cluster 2 has 7 Companies:\n",
      " ['Boston ', 'NY', 'Hawaiian ', 'San Diego', 'United', 'New England', 'Pacific ']\n",
      "\n",
      "Cluster 3 has 12 Companies:\n",
      " ['Wisconsin', 'Texas', 'Southern', 'Arizona ', 'Northern', 'Madison ', 'Kentucky', 'Florida ', 'Commonwealth', 'Central ', 'Oklahoma', 'Virginia']\n",
      "\n"
     ]
    }
   ],
   "source": [
    "Cluster1 = sorted_df.loc[df_norm['Clusters'] == 0].index\n",
    "Cluster1 = Cluster1.tolist()\n",
    "\n",
    "Cluster2 = sorted_df.loc[df_norm['Clusters'] == 1].index\n",
    "Cluster2 = Cluster2.tolist()\n",
    "\n",
    "Cluster3 = sorted_df.loc[df_norm['Clusters'] == 2].index\n",
    "Cluster3 = Cluster3.tolist()\n",
    "\n",
    "print(f'Cluster 1 has {len(Cluster1)} Companies:\\n {Cluster1}\\n')\n",
    "print(f'Cluster 2 has {len(Cluster2)} Companies:\\n {Cluster2}\\n')\n",
    "print(f'Cluster 3 has {len(Cluster3)} Companies:\\n {Cluster3}')\n",
    "print()"
   ]
  },
  {
   "cell_type": "markdown",
   "metadata": {},
   "source": [
    "<table>\n",
    "    <tr>\n",
    "        <th>Cluster</th>\n",
    "        <th>Companies</th>\n",
    "    </tr>\n",
    "    <tr>\n",
    "        <td>1</td>\n",
    "        <td>Nevada, Idaho, Puget</td>\n",
    "    </tr>\n",
    "        <tr>\n",
    "        <td>2</td>\n",
    "        <td>Boston, NY, Hawaiian, San Diego, United, New England, Pacific</td>\n",
    "    </tr>\n",
    "        <tr>\n",
    "        <td>3</td>\n",
    "        <td>Wisconsin, Texas, Southern, Arizona, Northern, Madison, Kentucky, Florida, Commonwealth, Central, Oklahoma, Virginia</td>\n",
    "    </tr>\n",
    "</table>"
   ]
  },
  {
   "cell_type": "markdown",
   "metadata": {},
   "source": [
    "## 2. Agglomerative Clustering and Dendrogram"
   ]
  },
  {
   "cell_type": "code",
   "execution_count": 16,
   "metadata": {},
   "outputs": [],
   "source": [
    "from scipy.cluster.hierarchy import linkage          # scipy hierarchical/agglomerative clustering.\n",
    "from sklearn.cluster import AgglomerativeClustering  # << not used >>, but possible; scipy is easier package to use!\n",
    "\n",
    "from mpl_toolkits.mplot3d import Axes3D\n",
    "import seaborn as sns\n",
    "import pandas.util.testing as tm"
   ]
  },
  {
   "cell_type": "markdown",
   "metadata": {},
   "source": [
    "#### 2.1 and 2.2 - use prior df_norm (prepared) dataframe"
   ]
  },
  {
   "cell_type": "markdown",
   "metadata": {},
   "source": [
    "#### 2.3 Agglomerative Clustering"
   ]
  },
  {
   "cell_type": "code",
   "execution_count": 13,
   "metadata": {},
   "outputs": [],
   "source": [
    "ac = linkage(df_norm, method='average', metric='euclidean')"
   ]
  },
  {
   "cell_type": "markdown",
   "metadata": {},
   "source": [
    "#### 2.3 Dendrogram"
   ]
  },
  {
   "cell_type": "code",
   "execution_count": 14,
   "metadata": {},
   "outputs": [
    {
     "data": {
      "image/png": "[encoded data removed]",
      "text/plain": [
       "<Figure size 432x288 with 1 Axes>"
      ]
     },
     "metadata": {
      "needs_background": "light"
     },
     "output_type": "display_data"
    }
   ],
   "source": [
    "from scipy.cluster.hierarchy import dendrogram\n",
    "\n",
    "dendr = dendrogram(\n",
    "    ac,\n",
    "    leaf_rotation=90, \n",
    "    labels=labels)\n",
    "plt.tight_layout()\n",
    "plt.ylabel('Euclidean Distance')\n",
    "plt.show()"
   ]
  },
  {
   "cell_type": "markdown",
   "metadata": {},
   "source": [
    "#### Truncate to 3 Clusters Based on Euclidean Distance"
   ]
  },
  {
   "cell_type": "code",
   "execution_count": 15,
   "metadata": {},
   "outputs": [
    {
     "data": {
      "image/png": "[encoded data removed]",
      "text/plain": [
       "<Figure size 432x288 with 1 Axes>"
      ]
     },
     "metadata": {
      "needs_background": "light"
     },
     "output_type": "display_data"
    }
   ],
   "source": [
    "dendr = dendrogram(\n",
    "    ac,\n",
    "    truncate_mode='lastp', # truncate to clusters\n",
    "    p=3,                   # truncate to 3 clusters\n",
    "    leaf_rotation=90, \n",
    "    show_contracted=True,  # show truncated clusters\n",
    "    labels=labels)\n",
    "plt.tight_layout()\n",
    "plt.ylabel('Euclidean Distance')\n",
    "plt.show()"
   ]
  },
  {
   "cell_type": "markdown",
   "metadata": {},
   "source": [
    "#### 2.4 Three Cluster Groupings"
   ]
  },
  {
   "cell_type": "markdown",
   "metadata": {},
   "source": [
    "<table>\n",
    "    <tr>\n",
    "        <th>Cluster</th>\n",
    "        <th>Companies</th>\n",
    "    </tr>\n",
    "    <tr>\n",
    "        <td>1</td>\n",
    "        <td>Nevada, Idaho, Puget</td>\n",
    "    </tr>\n",
    "        <tr>\n",
    "        <td>2</td>\n",
    "        <td>NY</td>\n",
    "    </tr>\n",
    "        <tr>\n",
    "        <td>3</td>\n",
    "        <td>Hawaiian, Commonwealth, Madison, United, New England, Northern, Pacific, San Diego, Boston, Wisconsin, Arizona, Southern, Oklahoma, Kentucky, Florida, Virginia, Central, Texas</td>\n",
    "    </tr>\n",
    "</table>"
   ]
  },
  {
   "cell_type": "code",
   "execution_count": null,
   "metadata": {},
   "outputs": [],
   "source": []
  }
 ],
 "metadata": {
  "kernelspec": {
   "display_name": "Python 3",
   "language": "python",
   "name": "python3"
  },
  "language_info": {
   "codemirror_mode": {
    "name": "ipython",
    "version": 3
   },
   "file_extension": ".py",
   "mimetype": "text/x-python",
   "name": "python",
   "nbconvert_exporter": "python",
   "pygments_lexer": "ipython3",
   "version": "3.9.4"
  }
 },
 "nbformat": 4,
 "nbformat_minor": 4
}
